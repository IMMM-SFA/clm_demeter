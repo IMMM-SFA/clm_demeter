{
 "cells": [
  {
   "cell_type": "markdown",
   "metadata": {
    "pycharm": {
     "metadata": false,
     "name": "#%% md\n"
    }
   },
   "source": [
    "## CLM-Demeter integration tutorial\n"
   ]
  },
  {
   "cell_type": "markdown",
   "metadata": {
    "pycharm": {
     "metadata": false,
     "name": "#%% md\n"
    }
   },
   "source": [
    "#### This tutorial describes the steps necessary to produce CLM-derived input files for Demeter and execute Demeter using PIC using the created inputs.\n"
   ]
  },
  {
   "cell_type": "markdown",
   "metadata": {
    "pycharm": {
     "metadata": false,
     "name": "#%% md\n"
    }
   },
   "source": [
    "#### The files stored to execute the CLM-Demeter experiment can be found here:\n",
    "`/pic/projects/GCAM/demeter/runs/clm`\n",
    "\n",
    "#### The following are the associated file paths and additional info to run the code:\n"
   ]
  },
  {
   "cell_type": "code",
   "execution_count": null,
   "metadata": {
    "pycharm": {
     "is_executing": false,
     "metadata": false,
     "name": "#%%\n"
    }
   },
   "outputs": [],
   "source": [
    "import os\n",
    "\n",
    "project_dir = '/pic/projects/GCAM/demeter/runs/clm'\n",
    "\n",
    "# file created to spatial represent the base year of 2005 at 0.05 degree for each CLM PFT in units squared-degrees\n",
    "original_baselayer_file = os.path.join(project_dir, 'inputs', 'observed', 'baselayerdata.csv')\n",
    "\n",
    "# output file to save the base layer reclassified from CLM to Demeter land classes to\n",
    "reclassified_baselayer_file = os.path.join(project_dir, 'inputs', 'observed', 'clm_baselayer_by_final_lcs.csv')\n",
    "\n",
    "# file allocating CLM PFTs to Demeter's final land classes\n",
    "spatial_allocation_file = os.path.join(project_dir, 'inputs', 'allocation', 'spatial_allocation_rules.csv')\n",
    "\n",
    "# file allocating GCAM land classes to Demeter's final land classes\n",
    "projected_allocation_file = os.path.join(project_dir, 'inputs', 'allocation', 'gcam_allocation_rules.csv')\n",
    "\n",
    "# output allocation file representing reclassification of GCAM land classes to Demeter's land classes\n",
    "out_proj_allocation_file = os.path.join(project_dir, 'inputs', 'allocation', 'gcam_allocation_rules_reclass.csv')\n",
    "\n",
    "# output allocation file representing reclassification of CLM PFTs to Demeter's land classes\n",
    "out_spat_allocation_file = os.path.join(project_dir, 'inputs', 'allocation', 'spatial_allocation_rules_reclass.csv')\n",
    "\n",
    "# file for land projections from GCAM for all years, subregions, and land classes\n",
    "projected_file = os.path.join(project_dir, 'inputs', 'projected', 'gcam_ssp4_34_lumip.csv')\n",
    "\n",
    "# output file to save the disaggregated land projections from GCAM to\n",
    "out_projected_file = os.path.join(project_dir, 'inputs', 'projected', 'gcam_ssp4_34_lumip_disagg.csv')\n",
    "\n",
    "# Either 'aez_id' or 'basin_id' depending on the version of GCAM used\n",
    "metric = 'aez_id'\n",
    "\n",
    "# list of GCAM years to process\n",
    "gcam_year_list = [1990] + list(range(2005, 2105, 5))\n",
    "\n",
    "project_dir_CLM = '/pic/projects/im3/lulc_thrust_area/minchen/Demeter_0.05deg_trial/Demeter_0.05deg_trial'\n",
    "\n",
    "# original CLM netcdf file\n",
    "orig_baselayer_netcdf_file = os.path.join(project_dir_CLM, 'mksrf_78pft_landuse_rc2000_c130927.nc')\n",
    "\n",
    "# ESACCI land cover file\n",
    "esacci_lu_file = os.path.join(project_dir_CLM, 'ESACCI-LC-aggregated-0.25Deg-merged1992-base.csv')\n",
    "\n",
    "# Nutrient availability file\n",
    "nut_avail_file = os.path.join(project_dir_CLM, '000_nutrientavail_hswd_NA_0.25.csv')\n",
    "\n",
    "# Soil quality file\n",
    "soil_qual_file = os.path.join(project_dir_CLM, '001_soilquality_hswd_0.25.csv')\n",
    "\n",
    "project_dir_ESACCI = '/pic/projects/im3/lulc_thrust_area/minchen/ESA_CCI_LandCoverData'\n",
    "\n",
    "# File name storing ESACCI land classes\n",
    "esacci_to_flt_file = os.path.join(project_dir_ESACCI, 'estimate_transitionpriority', 'lccs2pft.csv')\n",
    "\n",
    "# ESACCI land use filename start\n",
    "fname_sta = 'ESACCI-LC-L4-LCCS-Map-300m-P1Y-' \n",
    "\n",
    "# ESACCI land use filename end\n",
    "fname_end = '-v2.0.7.nc' \n",
    "\n",
    "# Start and end year for ESACCI files\n",
    "sta_yr = 1992\n",
    "end_yr = 1994\n",
    "\n",
    "# Land use variable name in ESACCI netCDF files\n",
    "lu_var = 'lccs_class'\n",
    "\n",
    "project_dir_transition_prior = '/pic/projects/GCAM/evasinha/clm_demeter'\n",
    "\n",
    "# File storing transition priorities for geographical factors\n",
    "geo_trans_prior_file   = os.path.join(project_dir_transition_prior, 'transition_priority_Geo.csv')\n",
    "\n",
    "# File storing transition priorities for FLTs. These will be created by FLTTransitionPriorities class\n",
    "FLT_trans_prior_file   = os.path.join(project_dir_transition_prior, 'transition_priority_FLTs.csv')\n",
    "\n",
    "# File storing transition priorities for leaf shape factor\n",
    "leaf_trans_prior_file  = os.path.join(project_dir_transition_prior, 'transition_priority_Leaf.csv')\n",
    "\n",
    "# File storing transition priorities for  phenology factor\n",
    "pheno_trans_prior_file = os.path.join(project_dir_transition_prior, 'transition_priority_Pheno.csv')\n",
    "\n",
    "# File storing transition priorities for crop type factor\n",
    "crop_trans_prior_file  = os.path.join(project_dir_transition_prior, 'transition_priority_CropType.csv')\n",
    "\n",
    "# File storing transition priorities for water management factor\n",
    "water_trans_prior_file = os.path.join(project_dir_transition_prior, 'transition_priority_Water.csv')\n",
    "\n",
    "# File storing regrouped CLM types\n",
    "clm_type_factors_file  = os.path.join(project_dir_transition_prior, 'CLM_type_factors.csv')"
   ]
  },
  {
   "cell_type": "markdown",
   "metadata": {
    "pycharm": {
     "metadata": false
    }
   },
   "source": [
    "#### Import the modules we need from this package:\n"
   ]
  },
  {
   "cell_type": "code",
   "execution_count": null,
   "metadata": {
    "pycharm": {
     "is_executing": false,
     "metadata": false,
     "name": "#%%\n"
    }
   },
   "outputs": [],
   "source": [
    "import clm_demeter.reclassify_projected as rp\n",
    "import clm_demeter.reclassify_allocation as ra\n",
    "\n",
    "from clm_demeter.reclassify_base import ReclassBaselayer\n",
    "from clm_demeter.prepare_baselayer import PrepareBaselayer\n",
    "from clm_demeter.flt_transition_priority import FLTTransitionPriorities\n",
    "from clm_demeter.clm_transition_priorities import CLMTransitionPriorities"
   ]
  },
  {
   "cell_type": "markdown",
   "metadata": {
    "pycharm": {
     "metadata": false,
     "name": "#%% md\n"
    }
   },
   "source": [
    "### TODO:  Min to insert:\n",
    " -  the logic and any code that was used to create the original CLM base layer\n",
    " -  what CLM version and assumptions were used to generate the source data\n",
    " -  document how the transitions were mapped\n",
    " -  document how the treatment order was determined\n",
    " -  the GCAM version used in each of the LUMIP SSP4 runs (RCP 3.4 and RCP 6.0)\n"
   ]
  },
  {
   "cell_type": "markdown",
   "metadata": {},
   "source": [
    "### Step 0: Create the CLM base layer"
   ]
  },
  {
   "cell_type": "markdown",
   "metadata": {},
   "source": [
    "#### Check out help on our `PrepareBaselayer` class to see what it requires:#### "
   ]
  },
  {
   "cell_type": "code",
   "execution_count": null,
   "metadata": {},
   "outputs": [],
   "source": [
    "help(PrepareBaselayer)"
   ]
  },
  {
   "cell_type": "code",
   "execution_count": null,
   "metadata": {},
   "outputs": [],
   "source": [
    "PrepareBaselayer(orig_baselayer_netcdf_file, esacci_lu_file, nut_avail_file, soil_qual_file)"
   ]
  },
  {
   "cell_type": "markdown",
   "metadata": {},
   "source": [
    "#### Check out help on our `FLTTransitionPriorities` to see what it requires:#### "
   ]
  },
  {
   "cell_type": "code",
   "execution_count": null,
   "metadata": {},
   "outputs": [],
   "source": [
    "help (FLTTransitionPriorities)"
   ]
  },
  {
   "cell_type": "code",
   "execution_count": null,
   "metadata": {},
   "outputs": [],
   "source": [
    "FLTTransitionPriorities(esacci_to_flt_file, sta_yr, end_yr, fname_sta, fname_end, lu_var)"
   ]
  },
  {
   "cell_type": "markdown",
   "metadata": {},
   "source": [
    "#### Check out help on our `CLMTransitionPriorities` to see what it requires:#### "
   ]
  },
  {
   "cell_type": "code",
   "execution_count": null,
   "metadata": {},
   "outputs": [],
   "source": [
    "help (CLMTransitionPriorities)"
   ]
  },
  {
   "cell_type": "code",
   "execution_count": null,
   "metadata": {},
   "outputs": [],
   "source": [
    "CLMTransitionPriorities(geo_trans_prior_file, FLT_trans_prior_file, leaf_trans_prior_file,\n",
    "                        pheno_trans_prior_file, crop_trans_prior_file, water_trans_prior_file,\n",
    "                        clm_type_factors_file)"
   ]
  },
  {
   "cell_type": "markdown",
   "metadata": {
    "pycharm": {
     "metadata": false,
     "name": "#%% md\n"
    }
   },
   "source": [
    "### Step 1: Reclassify the existing CLM base layer that represents CLM PFTs to Demeter's desired output land classes\n"
   ]
  },
  {
   "cell_type": "markdown",
   "metadata": {
    "pycharm": {
     "metadata": false
    }
   },
   "source": [
    "#### Check out help on our `ReclassBaselayer` class to see what it requires:"
   ]
  },
  {
   "cell_type": "code",
   "execution_count": null,
   "metadata": {
    "pycharm": {
     "is_executing": false,
     "metadata": false,
     "name": "#%%\n"
    }
   },
   "outputs": [],
   "source": [
    "help(ReclassBaselayer)\n"
   ]
  },
  {
   "cell_type": "markdown",
   "metadata": {
    "pycharm": {
     "metadata": false,
     "name": "#%% md\n"
    }
   },
   "source": [
    "#### Generate a reclassififed base layer for Demeter from the original CLM base layer:\n"
   ]
  },
  {
   "cell_type": "code",
   "execution_count": null,
   "metadata": {
    "pycharm": {
     "is_executing": false,
     "metadata": false,
     "name": "#%%\n"
    }
   },
   "outputs": [],
   "source": [
    "base = ReclassBaselayer(original_baselayer_file, spatial_allocation_file, reclassified_baselayer_file)\n"
   ]
  },
  {
   "cell_type": "markdown",
   "metadata": {
    "pycharm": {
     "metadata": false,
     "name": "#%% md\n"
    }
   },
   "source": [
    "### Step 2: Disaggregate any projected land class areas per subregion by what is fractionally represented in the base layer.  This prevents Demeter's built-in method from spliting the area evenly regardless of what is in the observed data.\n"
   ]
  },
  {
   "cell_type": "markdown",
   "metadata": {
    "pycharm": {
     "metadata": false,
     "name": "#%% md\n"
    }
   },
   "source": [
    "#### Check out the help on the batch function as well as the class that does the work:\n"
   ]
  },
  {
   "cell_type": "code",
   "execution_count": null,
   "metadata": {
    "pycharm": {
     "is_executing": false,
     "metadata": false,
     "name": "#%%\n"
    }
   },
   "outputs": [],
   "source": [
    "help(rp.batch_process_split)\n"
   ]
  },
  {
   "cell_type": "code",
   "execution_count": null,
   "metadata": {
    "pycharm": {
     "is_executing": false,
     "metadata": false,
     "name": "#%%\n"
    }
   },
   "outputs": [],
   "source": [
    "help(rp.GcamLandclassSplit)\n"
   ]
  },
  {
   "cell_type": "markdown",
   "metadata": {
    "pycharm": {
     "metadata": false,
     "name": "#%% md\n"
    }
   },
   "source": [
    "#### Run batch disaggregation of land classes:\n",
    "#### TODO:  Notice in the output that Demeter land class `Urban` is not represented in the CLM base layer. This needs to be addressed in the base layer.\n"
   ]
  },
  {
   "cell_type": "code",
   "execution_count": null,
   "metadata": {
    "pycharm": {
     "is_executing": false,
     "metadata": false,
     "name": "#%%\n"
    }
   },
   "outputs": [],
   "source": [
    "proj = rp.batch_process_split(projected_allocation_file, \n",
    "                                reclassified_baselayer_file,\n",
    "                                projected_file,\n",
    "                                out_projected_file,\n",
    "                                metric,\n",
    "                                gcam_year_list)\n"
   ]
  },
  {
   "cell_type": "markdown",
   "metadata": {
    "pycharm": {
     "is_executing": false,
     "metadata": false,
     "name": "#%% md\n"
    }
   },
   "source": [
    "### Step 3:  Reclassify the spatial and projected allocation file\n"
   ]
  },
  {
   "cell_type": "markdown",
   "metadata": {
    "pycharm": {
     "metadata": false,
     "name": "#%% md\n"
    }
   },
   "source": [
    "#### Check out help on the two functions we need:\n"
   ]
  },
  {
   "cell_type": "code",
   "execution_count": null,
   "metadata": {
    "pycharm": {
     "is_executing": false,
     "metadata": false,
     "name": "#%%\n"
    }
   },
   "outputs": [],
   "source": [
    "help(ra.reclass_projected_allocation)\n"
   ]
  },
  {
   "cell_type": "code",
   "execution_count": null,
   "metadata": {
    "pycharm": {
     "is_executing": false,
     "metadata": false,
     "name": "#%%\n"
    }
   },
   "outputs": [],
   "source": [
    "help(ra.reclass_spatial_allocation)\n"
   ]
  },
  {
   "cell_type": "markdown",
   "metadata": {
    "pycharm": {
     "metadata": false,
     "name": "#%% md\n"
    }
   },
   "source": [
    "#### Reclass the projected allocation file:\n"
   ]
  },
  {
   "cell_type": "code",
   "execution_count": null,
   "metadata": {
    "pycharm": {
     "is_executing": false,
     "metadata": false,
     "name": "#%%\n"
    }
   },
   "outputs": [],
   "source": [
    "ra.reclass_projected_allocation(out_projected_file, projected_allocation_file, out_proj_allocation_file)\n"
   ]
  },
  {
   "cell_type": "markdown",
   "metadata": {
    "pycharm": {
     "metadata": false,
     "name": "#%% md\n"
    }
   },
   "source": [
    "#### Reclass the spatial allocation file:\n"
   ]
  },
  {
   "cell_type": "code",
   "execution_count": null,
   "metadata": {
    "pycharm": {
     "is_executing": false,
     "metadata": false,
     "name": "#%%\n"
    }
   },
   "outputs": [],
   "source": [
    "ra.reclass_spatial_allocation(spatial_allocation_file, out_spat_allocation_file, reclassified_baselayer_file)\n"
   ]
  },
  {
   "cell_type": "markdown",
   "metadata": {
    "pycharm": {
     "metadata": false,
     "name": "#%% md\n"
    }
   },
   "source": [
    "### Step 4:  Set-up Demeter run\n",
    "\n",
    "#### Make sure the configuration file is set appropriately (the following uses an example that can be ran on PIC).  This file named `config_ssp4_rcp3p4.ini` is what is called by Demeter to initialize a run.\n",
    "```ini\n",
    "[STRUCTURE]\n",
    "root_dir =                      /pic/projects/GCAM/demeter/runs/clm\n",
    "in_dir =                        inputs\n",
    "out_dir =                       outputs\n",
    "\n",
    "[INPUTS]\n",
    "allocation_dir =                allocation\n",
    "observed_dir =                  observed\n",
    "constraints_dir =               constraints\n",
    "projected_dir =                 projected\n",
    "ref_dir =                       reference\n",
    "\n",
    "[[ALLOCATION]]\n",
    "spatial_allocation =            spatial_allocation_rules_reclass.csv\n",
    "gcam_allocation =               gcam_allocation_rules_reclass.csv\n",
    "kernel_allocation =             kernel_density_allocation_rules.csv\n",
    "transition_order =              priority_allocation_rules.csv\n",
    "treatment_order =               treatment_order_allocation_rules.csv\n",
    "constraints =                   constraints_allocation_rules.csv\n",
    "\n",
    "[[OBSERVED]]\n",
    "observed_lu_data =              clm_baselayer_by_final_lcs.csv\n",
    "\n",
    "[[PROJECTED]]\n",
    "projected_lu_data =             gcam_ssp4_34_lumip_disagg.csv\n",
    "\n",
    "[[REFERENCE]]\n",
    "gcam_regnamefile =              gcam_regions_32.csv\n",
    "region_coords =                 regioncoord.csv\n",
    "country_coords =                countrycoord.csv\n",
    "\n",
    "[OUTPUTS]\n",
    "diag_dir =                      diagnostics\n",
    "log_dir =                       log_files\n",
    "kernel_map_dir =                kernel_density\n",
    "transition_tabular =            transition_tabular\n",
    "transition_maps =               transition_maps\n",
    "luc_intense_p1_dir =            luc_intensification_pass1\n",
    "luc_intense_p2_dir =            luc_intensification_pass2\n",
    "luc_expand_dir =                luc_expansion\n",
    "luc_timestep =                  luc_timestep\n",
    "lc_per_step_csv =               spatial_landcover_tabular\n",
    "lc_per_step_nc =                spatial_landcover_netcdf\n",
    "lc_per_step_shp =               spatial_landcover_shapefile\n",
    "\n",
    "[[DIAGNOSTICS]]\n",
    "harm_coeff =                    harmonization_coeff.npy\n",
    "intense_pass1_diag =            intensification_pass_one_diag.csv\n",
    "intense_pass2_diag =            intensification_pass_two_diag.csv\n",
    "expansion_diag =                expansion_diag.csv\n",
    "\n",
    "[PARAMS]\n",
    "# projection model name\n",
    "model =                         GCAM\n",
    "\n",
    "# projection model metric, currently AEZ or BASIN\n",
    "metric =                        AEZ\n",
    "\n",
    "# scenario name\n",
    "scenario =                      clm-dem-ssp4-rcp34\n",
    "\n",
    "# run description\n",
    "run_desc =                      clm-dem-ssp4-rcp34\n",
    "\n",
    "# aggregate level; 1 if there is no region information in the file, 2 if by both region and AEZ (Default)\n",
    "agg_level =                     2\n",
    "\n",
    "# spatial base layer id field name\n",
    "observed_id_field =             fid\n",
    "\n",
    "# first year to process\n",
    "start_year =                    2005\n",
    "\n",
    "# last year to process\n",
    "end_year =                      2100\n",
    "\n",
    "# enter 1 to use non-kernel density constraints, 0 to ignore non-kernel density constraints\n",
    "use_constraints =               1\n",
    "\n",
    "# the spatial resolution of the observed spatial data layer in decimal degrees\n",
    "spatial_resolution =            0.05\n",
    "\n",
    "# error tolerance in km2 for PFT area change not completed\n",
    "errortol =                      0.001\n",
    "\n",
    "# time step in years\n",
    "timestep =                      5\n",
    "\n",
    "# factor to multiply the projected land allocation by\n",
    "proj_factor =                   1000\n",
    "\n",
    "# output diagnostic reports\n",
    "diagnostic =                    1\n",
    "\n",
    "# from 0 to 1; ideal fraction of LUC that will occur during intensification, the remainder will be expansion\n",
    "intensification_ratio =         0.8\n",
    "\n",
    "# activates the stochastic selection of grid cells for expansion of any PFT\n",
    "stochastic_expansion =          1\n",
    "\n",
    "# threshold above which grid cells are selected to receive a given land type expansion; between 0 and 1, where 0 is all\n",
    "#     land cells can receive expansion and set to 1 only the grid cell with the maximum likelihood will expand.  For\n",
    "#     a 0.75 setting, only grid cells with a likelihood >= 0.75 x max_likelihood are selected.\n",
    "selection_threshold =           0.75\n",
    "\n",
    "# radius in grid cells to use when computing the kernel density; larger is smoother but will increase run-time\n",
    "kernel_distance =               30\n",
    "\n",
    "# create kernel density maps; 1 is True\n",
    "map_kernels =                   0\n",
    "\n",
    "# create land change maps per time step per land class\n",
    "map_luc_pft =                   0\n",
    "\n",
    "# create land change maps for each intensification and expansion step\n",
    "map_luc_steps =                 0\n",
    "\n",
    "# creates maps of land transitions for each time step\n",
    "map_transitions =               0\n",
    "\n",
    "# years to save data for, default is all; otherwise a semicolon delimited string e.g, 2005;2050\n",
    "target_years_output =           all\n",
    "\n",
    "# save tabular spatial landcover as CSV; define tabular_units below (default sqkm)\n",
    "save_tabular =                  1\n",
    "\n",
    "# untis to output tabular data in (sqkm or percent)\n",
    "tabular_units =                 sqkm\n",
    "\n",
    "# exports CSV files of land transitions for each time step in km2\n",
    "save_transitions =              0\n",
    "\n",
    "# create land cover per point shapefile output for each time step; output units will be same as tabular data\n",
    "save_shapefile =                0\n",
    "\n",
    "# create a NetCDF file of land cover percent for each year by grid cell containing each land class\n",
    "save_netcdf_yr =                0\n",
    "\n",
    "# create a NetCDF file of land cover percent by land class by grid cell containing each year interpolated to one-year intervals\n",
    "save_netcdf_lc =                0\n",
    "\n",
    "# create an ASCII raster representing the land class with the maximum value per grid cell per year\n",
    "save_ascii_max =                0\n",
    "```\n",
    "\n",
    "#### A simple Python code is prepared to run Demeter located here: `/pic/projects/GCAM/demeter/runs/clm/code/run_demeter_ssp4_rcp3p4.py`:\n",
    "```python\n",
    "import os\n",
    "\n",
    "from demeter.model import Demeter\n",
    "\n",
    "\n",
    "if __name__ == \"__main__\":\n",
    "\n",
    "    root = '/pic/projects/GCAM/demeter/runs/clm'\n",
    "\n",
    "    ssp = 4\n",
    "    rcp = '3p4'\n",
    "\n",
    "    print(\"Processing:  SSP{0} - RCP{1}\".format(ssp, rcp))\n",
    "    ini = os.path.join(root, 'config_ssp{0}_rcp{1}.ini'.format(ssp, rcp))\n",
    "    dm = Demeter(config=ini)\n",
    "    dm.execute()\n",
    "    del dm\n",
    "```\n",
    "\n",
    "#### And a shell script to call when submitting the job using PIC located here: `/pic/projects/GCAM/demeter/runs/clm/code/run_demeter_ssp4_rcp3p4.sh`:\n",
    "```sh\n",
    "\n",
    "#!/bin/zsh\n",
    "\n",
    "#SBATCH -n 8\n",
    "#SBATCH -t 2000\n",
    "#SBATCH -A IM3\n",
    "#SBATCH -J clm-demeter-ssp4-rcp3p4\n",
    "\n",
    "source  /etc/profile.d/modules.sh\n",
    "module purge\n",
    "module load python/2.7.13\n",
    "\n",
    "PFILE=\"/pic/projects/GCAM/demeter/runs/clm/code/run_demeter_ssp4_rcp3p4.py\"\n",
    "\n",
    "date\n",
    "python $PFILE\n",
    "date\n",
    "\n",
    "echo 'completed'\n",
    "```\n",
    "\n",
    "#### After Demeter is installed as a user (see `/pic/projects/GCAM/demeter/README.txt`), you can submit the job by running the following in your terminal:\n",
    "`sbatch /pic/projects/GCAM/demeter/runs/clm/code/run_demeter_ssp4_rcp3p4.sh`\n",
    "\n",
    "\n",
    "\n"
   ]
  }
 ],
 "metadata": {
  "kernelspec": {
   "display_name": "Python 3",
   "language": "python",
   "name": "python3"
  },
  "language_info": {
   "codemirror_mode": {
    "name": "ipython",
    "version": 3
   },
   "file_extension": ".py",
   "mimetype": "text/x-python",
   "name": "python",
   "nbconvert_exporter": "python",
   "pygments_lexer": "ipython3",
   "version": "3.6.8"
  },
  "stem_cell": {
   "cell_type": "raw",
   "metadata": {
    "pycharm": {
     "metadata": false
    }
   },
   "source": ""
  }
 },
 "nbformat": 4,
 "nbformat_minor": 1
}
