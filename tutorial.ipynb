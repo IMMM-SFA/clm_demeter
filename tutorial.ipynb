{
  "cells": [
    {
      "cell_type": "markdown",
      "source": "## CLM-Demeter integration tutorial\n",
      "metadata": {
        "pycharm": {
          "metadata": false,
          "name": "#%% md\n"
        }
      }
    },
    {
      "cell_type": "markdown",
      "source": "#### This tutorial describes the steps necessary to produce CLM-derived input files for Demeter and execute Demeter using PIC using the created inputs.\n",
      "metadata": {
        "pycharm": {
          "metadata": false,
          "name": "#%% md\n"
        }
      }
    },
    {
      "cell_type": "markdown",
      "source": "#### The files stored to execute the CLM-Demeter experiment can be found here:\n`/pic/projects/GCAM/demeter/runs/clm`\n\n#### The following are the associated file paths and additional info to run the code:\n",
      "metadata": {
        "pycharm": {
          "metadata": false,
          "name": "#%% md\n"
        }
      }
    },
    {
      "cell_type": "code",
      "execution_count": 6,
      "outputs": [],
      "source": "import os\n\nproject_dir \u003d \u0027/pic/projects/GCAM/demeter/runs/clm\u0027\n\n# file created to spatial represent the base year of 2005 at 0.05 degree for each CLM PFT in units squared-degrees\noriginal_baselayer_file \u003d os.path.join(project_dir, \u0027inputs\u0027, \u0027observed\u0027, \u0027baselayerdata.csv\u0027)\n\n# output file to save the base layer reclassified from CLM to Demeter land classes to\nreclassified_baselayer_file \u003d os.path.join(project_dir, \u0027inputs\u0027, \u0027observed\u0027, \u0027clm_baselayer_by_final_lcs.csv\u0027)\n\n# file allocating CLM PFTs to Demeter\u0027s final land classes\nspatial_allocation_file \u003d os.path.join(project_dir, \u0027inputs\u0027, \u0027allocation\u0027, \u0027spatial_allocation_rules.csv\u0027)\n\n# file allocating GCAM land classes to Demeter\u0027s final land classes\nprojected_allocation_file \u003d os.path.join(project_dir, \u0027inputs\u0027, \u0027projected\u0027, \u0027gcam_allocation_rules.csv\u0027)\n\n# output allocation file representing reclassification of GCAM land classes to Demeter\u0027s land classes\nout_proj_allocation_file \u003d os.path.join(project_dir, \u0027inputs\u0027, \u0027allocation\u0027, \u0027gcam_allocation_rules_reclass.csv\u0027)\n\n# output allocation file representing reclassification of CLM PFTs to Demeter\u0027s land classes\nout_spat_allocation_file \u003d os.path.join(project_dir, \u0027inputs\u0027, \u0027allocation\u0027, \u0027spatial_allocation_rules_reclass.csv\u0027)\n\n# file for land projections from GCAM for all years, subregions, and land classes\nprojected_file \u003d os.path.join(project_dir, \u0027inputs\u0027, \u0027projected\u0027, \u0027gcam_ssp4_34_lumip.csv\u0027)\n\n# output file to save the disaggregated land projections from GCAM to\nout_projected_file \u003d os.path.join(project_dir, \u0027inputs\u0027, \u0027projected\u0027, \u0027gcam_ssp4_34_lumip_disagg.csv\u0027)\n\n# Either \u0027aez_id\u0027 or \u0027basin_id\u0027 depending on the version of GCAM used\nmetric \u003d \u0027aez_id\u0027\n\n# list of GCAM years to process\ngcam_year_list \u003d [1990] + list(range(2005, 2105, 5))\n",
      "metadata": {
        "pycharm": {
          "metadata": false,
          "name": "#%%\n",
          "is_executing": false
        }
      }
    },
    {
      "cell_type": "markdown",
      "source": "#### Import the modules we need from this package:\n",
      "metadata": {
        "pycharm": {
          "metadata": false
        }
      }
    },
    {
      "cell_type": "code",
      "execution_count": 7,
      "outputs": [],
      "source": "import clm_demeter.reclassify_projected as rp\nimport clm_demeter.reclassify_allocation as ra\n\nfrom clm_demeter.reclassify_base import ReclassBaselayer\n",
      "metadata": {
        "pycharm": {
          "metadata": false,
          "name": "#%%\n",
          "is_executing": false
        }
      }
    },
    {
      "cell_type": "markdown",
      "source": "### TODO:  Min to insert:\n -  the logic and any code that was used to create the original CLM base layer\n -  what CLM version and assumptions were used to generate the source data\n -  document how the transitions were mapped\n -  document how the treatment order was determined\n",
      "metadata": {
        "pycharm": {
          "metadata": false,
          "name": "#%% md\n"
        }
      }
    },
    {
      "cell_type": "markdown",
      "source": "### Step 1: Reclassify the existing CLM base layer that represents CLM PFTs to Demeter\u0027s desired output land classes\n",
      "metadata": {
        "pycharm": {
          "metadata": false,
          "name": "#%% md\n"
        }
      }
    },
    {
      "cell_type": "markdown",
      "source": "#### Check out help on our `ReclassBaselayer` class to see what it requires:",
      "metadata": {
        "pycharm": {
          "metadata": false
        }
      }
    },
    {
      "cell_type": "code",
      "execution_count": 18,
      "outputs": [
        {
          "name": "stdout",
          "text": [
            "Help on class ReclassBaselayer in module clm_demeter.reclassify_base:\n\nclass ReclassBaselayer(builtins.object)\n |  Reclassify CLM PFTs in the baselayer for Demeter to Demeter final landcover classes.\n |  \n |  :param clm_baselayer_file:              Full path with file name and extension to\n |                                          the CLM baselayer prepared for Demeter\n |                                          in units square-degrees.\n |  \n |  :param clm_spatial_allocation_file:     Full path with file name and extension to\n |                                          the Demeter spatial allocation file for CLM\n |                                          landclasses.\n |  \n |  :param out_clm_baselayer_file:          Full path with file name and extension to\n |                                          to save the reclassified baselayer.\n |  \n |  :method demeter_to_clm_map:             Create a dictionary of Demeter final landclasses\n |                                          to CLM PFTs. Returns dictionary of\n |                                          {final_landclass_name: [clm_pft, ...]}}.\n |  \n |  :method get_unique_clm_pfts:            Create a list of unique CLM PFTs represented in the\n |                                          baselayer.\n |  \n |  :method reclass_clm_baselayer:          Reclassify the existing CLM baselayer for Demeter\n |                                          to Demeter land cover classes.  Save output to\n |                                          new file. Returns data frame of reclassified data.\n |  \n |  # accessible upon initialization\n |  :attribute dem_to_clm_dict:             Dictionary of {final_landclass_name: [clm_pft, ...]}}.\n |  \n |  :attribute df_clm_baselayer:            Data frame of reclassified data.\n |  \n |  Methods defined here:\n |  \n |  __init__(self, clm_baselayer_file, clm_spatial_allocation_file, out_clm_baselayer_file)\n |      Initialize self.  See help(type(self)) for accurate signature.\n |  \n |  demeter_to_clm_map(self, true_value\u003d\u00271\u0027)\n |      Create a dictionary of Demeter final landclasses to CLM PFTs.\n |      \n |      :param true_value:                      The value that represents true in the allocation file.\n |      \n |      :return:                                Dictionary of {final_landclass_name: [clm_pft, ...]}}\n |  \n |  get_unique_clm_pfts(self)\n |      Create a list of unique CLM PFTs represented in the baselayer.\n |      \n |      :return:                             Unique list of CLM PFTs\n |  \n |  reclass_clm_baselayer(self)\n |      Reclassify the existing CLM baselayer for Demeter to Demeter land cover classes.\n |      Save output to new file.\n |      \n |      :return:                             Data frame of reclassified data\n |  \n |  ----------------------------------------------------------------------\n |  Data descriptors defined here:\n |  \n |  __dict__\n |      dictionary for instance variables (if defined)\n |  \n |  __weakref__\n |      list of weak references to the object (if defined)\n\n"
          ],
          "output_type": "stream"
        }
      ],
      "source": "help(ReclassBaselayer)\n",
      "metadata": {
        "pycharm": {
          "metadata": false,
          "name": "#%%\n",
          "is_executing": false
        }
      }
    },
    {
      "cell_type": "markdown",
      "source": "#### Generate a reclassififed base layer for Demeter from the original CLM base layer:\n",
      "metadata": {
        "pycharm": {
          "metadata": false,
          "name": "#%% md\n"
        }
      }
    },
    {
      "cell_type": "code",
      "execution_count": 24,
      "outputs": [],
      "source": "base \u003d ReclassBaselayer(original_baselayer_file, spatial_allocation_file, reclassified_baselayer_file)\n",
      "metadata": {
        "pycharm": {
          "metadata": false,
          "name": "#%%\n",
          "is_executing": false
        }
      }
    },
    {
      "cell_type": "markdown",
      "source": "### Step 2: Disaggregate any projected land class areas per subregion by what is fractionally represented in the base layer.  This prevents Demeter\u0027s built-in method from spliting the area evenly regardless of what is in the observed data.\n",
      "metadata": {
        "pycharm": {
          "metadata": false,
          "name": "#%% md\n"
        }
      }
    },
    {
      "cell_type": "markdown",
      "source": "#### Check out the help on the batch function as well as the class that does the work:\n",
      "metadata": {
        "pycharm": {
          "metadata": false,
          "name": "#%% md\n"
        }
      }
    },
    {
      "cell_type": "code",
      "execution_count": 3,
      "outputs": [
        {
          "name": "stdout",
          "text": [
            "Help on function batch_process_split in module clm_demeter.reclassify_projected:\n\nbatch_process_split(projected_allocation_file, observed_baselayer_file, projected_file, out_projected_file, metric, gcam_year_list)\n    Batch process projected land class disaggregation.\n    \n    :param projected_allocation_file:   Full path with file name and extension of the projected allocation file from\n                                        Demeter that maps GCAM land classes to the final land cover classes in\n                                        Demeter.\n    \n    :param observed_file:               Full path with file name and extension of the observed data file to be used in the\n                                        Demeter run.\n    \n    :param projected_file:              Full path with file name and extension of the projected data file that has been\n                                        extracted from a GCAM output database for use with Demeter.\n    \n    :param out_projected_file:          Full path with file name and extension to save the modified projected file to.\n    \n    :param metric:                      Name of the subregion used. Either \u0027basin_id\u0027 or \u0027aez_id\u0027.\n    \n    :param gcam_year_list:              List of GCAM years to process.\n    \n    :return:                            Modified projected data frame.\n\n"
          ],
          "output_type": "stream"
        }
      ],
      "source": "help(rp.batch_process_split)\n",
      "metadata": {
        "pycharm": {
          "metadata": false,
          "name": "#%%\n",
          "is_executing": false
        }
      }
    },
    {
      "cell_type": "code",
      "execution_count": 4,
      "outputs": [
        {
          "name": "stdout",
          "text": [
            "Help on class GcamLandclassSplit in module clm_demeter.reclassify_projected:\n\nclass GcamLandclassSplit(builtins.object)\n |  Split a GCAM landclass into multiple classes based on the fractional amount present in the observed data per\n |  subregion.  This method is more desirable than the default \"even percentage\" split that Demeter conducts.  The\n |  output file replaces the GCAM target landclass (e.g. RockIceDesert) with the user-selected classes (e.g. snow and\n |  sparse) per subregion.  The new file becomes what is referenced as the projected file in Demeter.\n |  \n |  :param observed_file:               Full path with file name and extension of the observed data file to be used in the\n |                                      Demeter run.\n |  \n |  :param projected_file:              Full path with file name and extension of the projected data file that has been\n |                                      extracted from a GCAM output database for use with Demeter.\n |  \n |  :param target_landclass:            Name of the landclass from the projected file to split (e.g. RockIceDesert).\n |  \n |  :param observed_landclasses:        List of landclass names from the observed data to substitute (e.g. [\u0027snow\u0027, \u0027sparse\u0027].\n |  \n |  :param metric:                      Name of the subregion used. Either \u0027basin_id\u0027 or \u0027aez_id\u0027.\n |  \n |  :param gcam_year_list:              List of GCAM years to process.\n |  \n |  :param out_file:                    Full path with file name and extension for the altered projected data file.\n |  \n |  :return:                            Data frame; save as file\n |  \n |  Methods defined here:\n |  \n |  __init__(self, observed_file, projected_file, target_landclass, observed_landclasses, metric, gcam_year_list, out_file\u003dNone)\n |      Initialize self.  See help(type(self)) for accurate signature.\n |  \n |  calc_observed_fraction(self)\n |      Calculate the fraction of land area for each target observed landclass per subregion.\n |      \n |      :return:                    Dictionary; {region_metric_id: (obs_lc, ...), ...}\n |  \n |  disaggregate_landclass(self)\n |      Disaggregate GCAM target landclass using observed data fraction.  Save output to file.\n |      \n |      :return:                    Data frame\n |  \n |  ----------------------------------------------------------------------\n |  Data descriptors defined here:\n |  \n |  __dict__\n |      dictionary for instance variables (if defined)\n |  \n |  __weakref__\n |      list of weak references to the object (if defined)\n |  \n |  ----------------------------------------------------------------------\n |  Data and other attributes defined here:\n |  \n |  PRJ_LANDCLASS_FIELD \u003d \u0027landclass\u0027\n |  \n |  PRJ_METRIC_ID_FIELD \u003d \u0027metric_id\u0027\n |  \n |  REGION_ID_FIELD \u003d \u0027region_id\u0027\n |  \n |  REGION_NAME_FIELD \u003d \u0027region\u0027\n |  \n |  UNIT_FIELD \u003d \u0027Units\u0027\n\n"
          ],
          "output_type": "stream"
        }
      ],
      "source": "help(rp.GcamLandclassSplit)\n",
      "metadata": {
        "pycharm": {
          "metadata": false,
          "name": "#%%\n",
          "is_executing": false
        }
      }
    },
    {
      "cell_type": "markdown",
      "source": "#### Run batch disaggregation of land classes:\n",
      "metadata": {
        "pycharm": {
          "metadata": false,
          "name": "#%% md\n"
        }
      }
    },
    {
      "cell_type": "code",
      "execution_count": 4,
      "outputs": [
        {
          "name": "stdout",
          "text": [
            "Disaggregating projected land class \u0027biomass\u0027 to \u0027[\u0027Bioenergy_rf\u0027, \u0027Bioenergy_irr\u0027]\u0027\n",
            "Disaggregating projected land class \u0027Corn\u0027 to \u0027[\u0027Corn_rf\u0027, \u0027Corn_irr\u0027]\u0027\n",
            "Disaggregating projected land class \u0027FiberCrop\u0027 to \u0027[\u0027Cotton_rf\u0027, \u0027Cotton_irr\u0027]\u0027\n",
            "Disaggregating projected land class \u0027FodderGrass\u0027 to \u0027[\u0027Fodder_rf\u0027, \u0027Fodder_irr\u0027]\u0027\n",
            "Disaggregating projected land class \u0027FodderHerb\u0027 to \u0027[\u0027Fodder_rf\u0027, \u0027Fodder_irr\u0027]\u0027\n",
            "Disaggregating projected land class \u0027Forest\u0027 to \u0027[\u0027NET_tem\u0027, \u0027NET_bor\u0027, \u0027NDT_bor\u0027, \u0027BET_tro\u0027, \u0027BET_tem\u0027, \u0027BDT_tro\u0027, \u0027BDT_tem\u0027, \u0027BDT_bor\u0027]\u0027\n",
            "Disaggregating projected land class \u0027Grassland\u0027 to \u0027[\u0027C3_gra_arc\u0027, \u0027C3_gra\u0027, \u0027C4_gra\u0027]\u0027\n",
            "Disaggregating projected land class \u0027MiscCrop\u0027 to \u0027[\u0027OtherCrop_rf\u0027, \u0027OtherCrop_irr\u0027]\u0027\n",
            "Disaggregating projected land class \u0027OilCrop\u0027 to \u0027[\u0027Soy_rf\u0027, \u0027Soy_irr\u0027]\u0027\n",
            "Disaggregating projected land class \u0027OtherArableLand\u0027 to \u0027[\u0027OtherCrop_rf\u0027, \u0027OtherCrop_irr\u0027]\u0027\n",
            "Disaggregating projected land class \u0027OtherGrain\u0027 to \u0027[\u0027OtherCrop_rf\u0027, \u0027OtherCrop_irr\u0027]\u0027\n",
            "Disaggregating projected land class \u0027PalmFruit\u0027 to \u0027[\u0027Palm_rf\u0027, \u0027Palm_irr\u0027]\u0027\n",
            "Disaggregating projected land class \u0027Pasture\u0027 to \u0027[\u0027Fodder_irr\u0027]\u0027\n",
            "Disaggregating projected land class \u0027Rice\u0027 to \u0027[\u0027Rice_rf\u0027, \u0027Rice_irr\u0027]\u0027\n",
            "Disaggregating projected land class \u0027RockIceDesert\u0027 to \u0027[\u0027Barren\u0027]\u0027\n",
            "Disaggregating projected land class \u0027Root_Tuber\u0027 to \u0027[\u0027OtherCrop_rf\u0027, \u0027OtherCrop_irr\u0027]\u0027\n",
            "Disaggregating projected land class \u0027Shrubland\u0027 to \u0027[\u0027BES_tem\u0027, \u0027BDS_tem\u0027, \u0027BDS_bor\u0027]\u0027\n",
            "Disaggregating projected land class \u0027SugarCrop\u0027 to \u0027[\u0027Sugarcrop_rf\u0027, \u0027Sugarcrop_irr\u0027]\u0027\n",
            "Disaggregating projected land class \u0027Tundra\u0027 to \u0027[\u0027BDS_bor\u0027, \u0027C3_gra_arc\u0027, \u0027C3_gra\u0027, \u0027C4_gra\u0027]\u0027\n",
            "Disaggregating projected land class \u0027UnmanagedForest\u0027 to \u0027[\u0027NET_tem\u0027, \u0027NET_bor\u0027, \u0027NDT_bor\u0027, \u0027BET_tro\u0027, \u0027BET_tem\u0027, \u0027BDT_tro\u0027, \u0027BDT_tem\u0027, \u0027BDT_bor\u0027]\u0027\n",
            "Disaggregating projected land class \u0027UnmanagedPasture\u0027 to \u0027[\u0027Fodder_rf\u0027]\u0027\n",
            "Disaggregating projected land class \u0027UrbanLand\u0027 to \u0027[\u0027Urban\u0027]\u0027\nOne of the target projected landclasses \u0027[\u0027region_id\u0027, \u0027aez_id\u0027, \u0027Urban\u0027]\u0027 in projected data is not in the observed data.\nUnable to modify land class.\n",
            "Disaggregating projected land class \u0027Wheat\u0027 to \u0027[\u0027Wheat_rf\u0027, \u0027Wheat_irr\u0027]\u0027\n"
          ],
          "output_type": "stream"
        }
      ],
      "source": "proj \u003d rp.batch_process_split(projected_allocation_file, \n                                reclassified_baselayer_file,\n                                projected_file,\n                                out_projected_file,\n                                metric,\n                                gcam_year_list)\n",
      "metadata": {
        "pycharm": {
          "metadata": false,
          "name": "#%%\n",
          "is_executing": false
        }
      }
    },
    {
      "cell_type": "markdown",
      "source": "### Step 3:  Reclassify the spatial and projected allocation file\n",
      "metadata": {
        "pycharm": {
          "metadata": false,
          "name": "#%% md\n",
          "is_executing": false
        }
      }
    },
    {
      "cell_type": "markdown",
      "source": "#### Check out help on the two functions we need:\n",
      "metadata": {
        "pycharm": {
          "metadata": false,
          "name": "#%% md\n"
        }
      }
    },
    {
      "cell_type": "code",
      "execution_count": 9,
      "outputs": [
        {
          "name": "stdout",
          "text": [
            "Help on function reclass_projected_allocation in module clm_demeter.reclassify_allocation:\n\nreclass_projected_allocation(projected_data_file, projected_allocation_file, out_proj_allocation_file)\n    Reclassify the projected allocation file for Demeter to account for classes that have\n    been disaggregated to Demeter\u0027s final land classes.\n    \n    :param projected_file:              Full path with file name and extension of the projected data file that has been\n                                        extracted from a GCAM output database for use with Demeter.\n    \n    :param projected_allocation_file:   Full path with file name and extension of the projected allocation file from\n                                        Demeter that maps GCAM land classes to the final land cover classes in\n                                        Demeter.\n    \n    :param out_proj_allocation_file:    Full path with file name and extension for the reclassified projected allocation\n                                        file.\n\n"
          ],
          "output_type": "stream"
        }
      ],
      "source": "help(ra.reclass_projected_allocation)\n",
      "metadata": {
        "pycharm": {
          "metadata": false,
          "name": "#%%\n",
          "is_executing": false
        }
      }
    },
    {
      "cell_type": "code",
      "execution_count": 10,
      "outputs": [
        {
          "name": "stdout",
          "text": [
            "Help on function reclass_spatial_allocation in module clm_demeter.reclassify_allocation:\n\nreclass_spatial_allocation(spatial_allocation_file, out_spatial_allocation_file)\n    Reclassify the spatial allocation file for Demeter to 1:1 land class relationships\n    for Demeter. Using the output of this functions assumes that the user has already\n    created a reclassified base layer.\n    \n    :param spatial_allocation_file:     Full path with file name and extension to\n                                        the Demeter spatial allocation file for CLM\n                                        landclasses.\n    \n    :param out_spat_allocation_file:    Full path with file name and extension for the reclassified spatial allocation\n                                        file.\n\n"
          ],
          "output_type": "stream"
        }
      ],
      "source": "help(ra.reclass_spatial_allocation)\n",
      "metadata": {
        "pycharm": {
          "metadata": false,
          "name": "#%%\n",
          "is_executing": false
        }
      }
    },
    {
      "cell_type": "markdown",
      "source": "#### Reclass the projected allocation file:\n",
      "metadata": {
        "pycharm": {
          "metadata": false,
          "name": "#%% md\n"
        }
      }
    },
    {
      "cell_type": "code",
      "execution_count": 14,
      "outputs": [
        {
          "name": "stdout",
          "text": [
            "Projected land class \u0027Jatropha\u0027 not in Demeter land classes.\n"
          ],
          "output_type": "stream"
        }
      ],
      "source": "ra.reclass_projected_allocation(out_projected_file, projected_allocation_file, out_proj_allocation_file)\n",
      "metadata": {
        "pycharm": {
          "metadata": false,
          "name": "#%%\n",
          "is_executing": false
        }
      }
    },
    {
      "cell_type": "markdown",
      "source": "#### Reclass the spatial allocation file:\n",
      "metadata": {
        "pycharm": {
          "metadata": false,
          "name": "#%% md\n"
        }
      }
    },
    {
      "cell_type": "code",
      "execution_count": 16,
      "outputs": [],
      "source": "ra.reclass_spatial_allocation(spatial_allocation_file, out_spat_allocation_file)\n",
      "metadata": {
        "pycharm": {
          "metadata": false,
          "name": "#%%\n",
          "is_executing": false
        }
      }
    },
    {
      "cell_type": "markdown",
      "source": "### Step 4:  Set-up Demeter run\n\n\n",
      "metadata": {
        "pycharm": {
          "metadata": false,
          "name": "#%% md\n"
        }
      }
    }
  ],
  "metadata": {
    "language_info": {
      "codemirror_mode": {
        "name": "ipython",
        "version": 2
      },
      "file_extension": ".py",
      "mimetype": "text/x-python",
      "name": "python",
      "nbconvert_exporter": "python",
      "pygments_lexer": "ipython2",
      "version": "2.7.6"
    },
    "kernelspec": {
      "name": "python3",
      "language": "python",
      "display_name": "Python 3"
    },
    "stem_cell": {
      "cell_type": "raw",
      "source": "",
      "metadata": {
        "pycharm": {
          "metadata": false
        }
      }
    }
  },
  "nbformat": 4,
  "nbformat_minor": 0
}