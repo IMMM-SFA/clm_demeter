{
  "cells": [
    {
      "cell_type": "markdown",
      "source": "## Tutorial\n",
      "metadata": {
        "pycharm": {
          "metadata": false,
          "name": "#%% md\n"
        }
      }
    },
    {
      "cell_type": "markdown",
      "source": "### Step 1: Reclassify the existing CLM base layer that represents CLM PFTs to Demeter\u0027s desired output land classes\n",
      "metadata": {
        "pycharm": {
          "metadata": false,
          "name": "#%% md\n"
        }
      }
    },
    {
      "cell_type": "markdown",
      "source": "#### Import the class we need:\n",
      "metadata": {
        "pycharm": {
          "metadata": false,
          "name": "#%% md\n",
          "is_executing": false
        }
      }
    },
    {
      "cell_type": "code",
      "execution_count": 17,
      "outputs": [],
      "source": "from clm_demeter.reclassify_base import ReclassBaselayer\n",
      "metadata": {
        "pycharm": {
          "metadata": false,
          "name": "#%%\n",
          "is_executing": false
        }
      }
    },
    {
      "cell_type": "markdown",
      "source": "#### Check out help on our `ReclassBaselayer` class to see what it requires:",
      "metadata": {
        "pycharm": {
          "metadata": false
        }
      }
    },
    {
      "cell_type": "code",
      "execution_count": 18,
      "outputs": [
        {
          "name": "stdout",
          "text": [
            "Help on class ReclassBaselayer in module clm_demeter.reclassify_base:\n\nclass ReclassBaselayer(builtins.object)\n |  Reclassify CLM PFTs in the baselayer for Demeter to Demeter final landcover classes.\n |  \n |  :param clm_baselayer_file:              Full path with file name and extension to\n |                                          the CLM baselayer prepared for Demeter\n |                                          in units square-degrees.\n |  \n |  :param clm_spatial_allocation_file:     Full path with file name and extension to\n |                                          the Demeter spatial allocation file for CLM\n |                                          landclasses.\n |  \n |  :param out_clm_baselayer_file:          Full path with file name and extension to\n |                                          to save the reclassified baselayer.\n |  \n |  :method demeter_to_clm_map:             Create a dictionary of Demeter final landclasses\n |                                          to CLM PFTs. Returns dictionary of\n |                                          {final_landclass_name: [clm_pft, ...]}}.\n |  \n |  :method get_unique_clm_pfts:            Create a list of unique CLM PFTs represented in the\n |                                          baselayer.\n |  \n |  :method reclass_clm_baselayer:          Reclassify the existing CLM baselayer for Demeter\n |                                          to Demeter land cover classes.  Save output to\n |                                          new file. Returns data frame of reclassified data.\n |  \n |  # accessible upon initialization\n |  :attribute dem_to_clm_dict:             Dictionary of {final_landclass_name: [clm_pft, ...]}}.\n |  \n |  :attribute df_clm_baselayer:            Data frame of reclassified data.\n |  \n |  Methods defined here:\n |  \n |  __init__(self, clm_baselayer_file, clm_spatial_allocation_file, out_clm_baselayer_file)\n |      Initialize self.  See help(type(self)) for accurate signature.\n |  \n |  demeter_to_clm_map(self, true_value\u003d\u00271\u0027)\n |      Create a dictionary of Demeter final landclasses to CLM PFTs.\n |      \n |      :param true_value:                      The value that represents true in the allocation file.\n |      \n |      :return:                                Dictionary of {final_landclass_name: [clm_pft, ...]}}\n |  \n |  get_unique_clm_pfts(self)\n |      Create a list of unique CLM PFTs represented in the baselayer.\n |      \n |      :return:                             Unique list of CLM PFTs\n |  \n |  reclass_clm_baselayer(self)\n |      Reclassify the existing CLM baselayer for Demeter to Demeter land cover classes.\n |      Save output to new file.\n |      \n |      :return:                             Data frame of reclassified data\n |  \n |  ----------------------------------------------------------------------\n |  Data descriptors defined here:\n |  \n |  __dict__\n |      dictionary for instance variables (if defined)\n |  \n |  __weakref__\n |      list of weak references to the object (if defined)\n\n"
          ],
          "output_type": "stream"
        }
      ],
      "source": "help(ReclassBaselayer)\n",
      "metadata": {
        "pycharm": {
          "metadata": false,
          "name": "#%%\n",
          "is_executing": false
        }
      }
    },
    {
      "cell_type": "markdown",
      "source": "#### Set the paths to our files including the desired output:\n",
      "metadata": {
        "pycharm": {
          "metadata": false,
          "name": "#%% md\n"
        }
      }
    },
    {
      "cell_type": "code",
      "execution_count": 23,
      "outputs": [],
      "source": "clm_baselayer_file \u003d \u0027/Users/d3y010/projects/demeter/clm/baselayerdata.csv\u0027\nclm_spatial_allocation_file \u003d \u0027/Users/d3y010/projects/demeter/clm/spatial_allocation_rules.csv\u0027\nout_clm_baselayer_file \u003d \u0027/Users/d3y010/projects/demeter/clm/clm_baselayer_by_final_lcs.csv\u0027\n",
      "metadata": {
        "pycharm": {
          "metadata": false,
          "name": "#%%\n",
          "is_executing": false
        }
      }
    },
    {
      "cell_type": "markdown",
      "source": "#### Generate a reclassififed base layer for Demeter from the original CLM base layer:\n",
      "metadata": {
        "pycharm": {
          "metadata": false,
          "name": "#%% md\n"
        }
      }
    },
    {
      "cell_type": "code",
      "execution_count": 24,
      "outputs": [],
      "source": "base \u003d ReclassBaselayer(clm_baselayer_file, clm_spatial_allocation_file, out_clm_baselayer_file)#%% md\n",
      "metadata": {
        "pycharm": {
          "metadata": false,
          "name": "#%%\n",
          "is_executing": false
        }
      }
    },
    {
      "cell_type": "markdown",
      "source": "#### To take a look at the resulting data frame to 5 rows:",
      "metadata": {
        "pycharm": {
          "metadata": false,
          "name": "#%% md\n"
        }
      }
    },
    {
      "cell_type": "code",
      "execution_count": 25,
      "outputs": [
        {
          "data": {
            "text/plain": "   Latcoord  Loncoord  FID  regAEZ  region_id  aez_id  OBJECTID    Barren  \\\n0    71.525  -179.975  370    2313         23      13         1  0.000550   \n1    71.475  -179.975  371    2313         23      13         2  0.000675   \n2    71.425  -179.975  372    2313         23      13         3  0.000675   \n3    71.375  -179.975  373    2313         23      13         4  0.000575   \n4    71.325  -179.975  374    2313         23      13         5  0.000625   \n\n   NET_tem  NET_bor      ...        Palm_rf  Palm_irr  Fodder_rf  Fodder_irr  \\\n0      0.0      0.0      ...            0.0       0.0        0.0         0.0   \n1      0.0      0.0      ...            0.0       0.0        0.0         0.0   \n2      0.0      0.0      ...            0.0       0.0        0.0         0.0   \n3      0.0      0.0      ...            0.0       0.0        0.0         0.0   \n4      0.0      0.0      ...            0.0       0.0        0.0         0.0   \n\n   Rice_rf  Rice_irr  Sugarcrop_rf  Sugarcrop_irr  Bioenergy_rf  Bioenergy_irr  \n0      0.0       0.0           0.0            0.0             0              0  \n1      0.0       0.0           0.0            0.0             0              0  \n2      0.0       0.0           0.0            0.0             0              0  \n3      0.0       0.0           0.0            0.0             0              0  \n4      0.0       0.0           0.0            0.0             0              0  \n\n[5 rows x 42 columns]",
            "text/html": "\u003cdiv\u003e\n\u003cstyle scoped\u003e\n    .dataframe tbody tr th:only-of-type {\n        vertical-align: middle;\n    }\n\n    .dataframe tbody tr th {\n        vertical-align: top;\n    }\n\n    .dataframe thead th {\n        text-align: right;\n    }\n\u003c/style\u003e\n\u003ctable border\u003d\"1\" class\u003d\"dataframe\"\u003e\n  \u003cthead\u003e\n    \u003ctr style\u003d\"text-align: right;\"\u003e\n      \u003cth\u003e\u003c/th\u003e\n      \u003cth\u003eLatcoord\u003c/th\u003e\n      \u003cth\u003eLoncoord\u003c/th\u003e\n      \u003cth\u003eFID\u003c/th\u003e\n      \u003cth\u003eregAEZ\u003c/th\u003e\n      \u003cth\u003eregion_id\u003c/th\u003e\n      \u003cth\u003eaez_id\u003c/th\u003e\n      \u003cth\u003eOBJECTID\u003c/th\u003e\n      \u003cth\u003eBarren\u003c/th\u003e\n      \u003cth\u003eNET_tem\u003c/th\u003e\n      \u003cth\u003eNET_bor\u003c/th\u003e\n      \u003cth\u003e...\u003c/th\u003e\n      \u003cth\u003ePalm_rf\u003c/th\u003e\n      \u003cth\u003ePalm_irr\u003c/th\u003e\n      \u003cth\u003eFodder_rf\u003c/th\u003e\n      \u003cth\u003eFodder_irr\u003c/th\u003e\n      \u003cth\u003eRice_rf\u003c/th\u003e\n      \u003cth\u003eRice_irr\u003c/th\u003e\n      \u003cth\u003eSugarcrop_rf\u003c/th\u003e\n      \u003cth\u003eSugarcrop_irr\u003c/th\u003e\n      \u003cth\u003eBioenergy_rf\u003c/th\u003e\n      \u003cth\u003eBioenergy_irr\u003c/th\u003e\n    \u003c/tr\u003e\n  \u003c/thead\u003e\n  \u003ctbody\u003e\n    \u003ctr\u003e\n      \u003cth\u003e0\u003c/th\u003e\n      \u003ctd\u003e71.525\u003c/td\u003e\n      \u003ctd\u003e-179.975\u003c/td\u003e\n      \u003ctd\u003e370\u003c/td\u003e\n      \u003ctd\u003e2313\u003c/td\u003e\n      \u003ctd\u003e23\u003c/td\u003e\n      \u003ctd\u003e13\u003c/td\u003e\n      \u003ctd\u003e1\u003c/td\u003e\n      \u003ctd\u003e0.000550\u003c/td\u003e\n      \u003ctd\u003e0.0\u003c/td\u003e\n      \u003ctd\u003e0.0\u003c/td\u003e\n      \u003ctd\u003e...\u003c/td\u003e\n      \u003ctd\u003e0.0\u003c/td\u003e\n      \u003ctd\u003e0.0\u003c/td\u003e\n      \u003ctd\u003e0.0\u003c/td\u003e\n      \u003ctd\u003e0.0\u003c/td\u003e\n      \u003ctd\u003e0.0\u003c/td\u003e\n      \u003ctd\u003e0.0\u003c/td\u003e\n      \u003ctd\u003e0.0\u003c/td\u003e\n      \u003ctd\u003e0.0\u003c/td\u003e\n      \u003ctd\u003e0\u003c/td\u003e\n      \u003ctd\u003e0\u003c/td\u003e\n    \u003c/tr\u003e\n    \u003ctr\u003e\n      \u003cth\u003e1\u003c/th\u003e\n      \u003ctd\u003e71.475\u003c/td\u003e\n      \u003ctd\u003e-179.975\u003c/td\u003e\n      \u003ctd\u003e371\u003c/td\u003e\n      \u003ctd\u003e2313\u003c/td\u003e\n      \u003ctd\u003e23\u003c/td\u003e\n      \u003ctd\u003e13\u003c/td\u003e\n      \u003ctd\u003e2\u003c/td\u003e\n      \u003ctd\u003e0.000675\u003c/td\u003e\n      \u003ctd\u003e0.0\u003c/td\u003e\n      \u003ctd\u003e0.0\u003c/td\u003e\n      \u003ctd\u003e...\u003c/td\u003e\n      \u003ctd\u003e0.0\u003c/td\u003e\n      \u003ctd\u003e0.0\u003c/td\u003e\n      \u003ctd\u003e0.0\u003c/td\u003e\n      \u003ctd\u003e0.0\u003c/td\u003e\n      \u003ctd\u003e0.0\u003c/td\u003e\n      \u003ctd\u003e0.0\u003c/td\u003e\n      \u003ctd\u003e0.0\u003c/td\u003e\n      \u003ctd\u003e0.0\u003c/td\u003e\n      \u003ctd\u003e0\u003c/td\u003e\n      \u003ctd\u003e0\u003c/td\u003e\n    \u003c/tr\u003e\n    \u003ctr\u003e\n      \u003cth\u003e2\u003c/th\u003e\n      \u003ctd\u003e71.425\u003c/td\u003e\n      \u003ctd\u003e-179.975\u003c/td\u003e\n      \u003ctd\u003e372\u003c/td\u003e\n      \u003ctd\u003e2313\u003c/td\u003e\n      \u003ctd\u003e23\u003c/td\u003e\n      \u003ctd\u003e13\u003c/td\u003e\n      \u003ctd\u003e3\u003c/td\u003e\n      \u003ctd\u003e0.000675\u003c/td\u003e\n      \u003ctd\u003e0.0\u003c/td\u003e\n      \u003ctd\u003e0.0\u003c/td\u003e\n      \u003ctd\u003e...\u003c/td\u003e\n      \u003ctd\u003e0.0\u003c/td\u003e\n      \u003ctd\u003e0.0\u003c/td\u003e\n      \u003ctd\u003e0.0\u003c/td\u003e\n      \u003ctd\u003e0.0\u003c/td\u003e\n      \u003ctd\u003e0.0\u003c/td\u003e\n      \u003ctd\u003e0.0\u003c/td\u003e\n      \u003ctd\u003e0.0\u003c/td\u003e\n      \u003ctd\u003e0.0\u003c/td\u003e\n      \u003ctd\u003e0\u003c/td\u003e\n      \u003ctd\u003e0\u003c/td\u003e\n    \u003c/tr\u003e\n    \u003ctr\u003e\n      \u003cth\u003e3\u003c/th\u003e\n      \u003ctd\u003e71.375\u003c/td\u003e\n      \u003ctd\u003e-179.975\u003c/td\u003e\n      \u003ctd\u003e373\u003c/td\u003e\n      \u003ctd\u003e2313\u003c/td\u003e\n      \u003ctd\u003e23\u003c/td\u003e\n      \u003ctd\u003e13\u003c/td\u003e\n      \u003ctd\u003e4\u003c/td\u003e\n      \u003ctd\u003e0.000575\u003c/td\u003e\n      \u003ctd\u003e0.0\u003c/td\u003e\n      \u003ctd\u003e0.0\u003c/td\u003e\n      \u003ctd\u003e...\u003c/td\u003e\n      \u003ctd\u003e0.0\u003c/td\u003e\n      \u003ctd\u003e0.0\u003c/td\u003e\n      \u003ctd\u003e0.0\u003c/td\u003e\n      \u003ctd\u003e0.0\u003c/td\u003e\n      \u003ctd\u003e0.0\u003c/td\u003e\n      \u003ctd\u003e0.0\u003c/td\u003e\n      \u003ctd\u003e0.0\u003c/td\u003e\n      \u003ctd\u003e0.0\u003c/td\u003e\n      \u003ctd\u003e0\u003c/td\u003e\n      \u003ctd\u003e0\u003c/td\u003e\n    \u003c/tr\u003e\n    \u003ctr\u003e\n      \u003cth\u003e4\u003c/th\u003e\n      \u003ctd\u003e71.325\u003c/td\u003e\n      \u003ctd\u003e-179.975\u003c/td\u003e\n      \u003ctd\u003e374\u003c/td\u003e\n      \u003ctd\u003e2313\u003c/td\u003e\n      \u003ctd\u003e23\u003c/td\u003e\n      \u003ctd\u003e13\u003c/td\u003e\n      \u003ctd\u003e5\u003c/td\u003e\n      \u003ctd\u003e0.000625\u003c/td\u003e\n      \u003ctd\u003e0.0\u003c/td\u003e\n      \u003ctd\u003e0.0\u003c/td\u003e\n      \u003ctd\u003e...\u003c/td\u003e\n      \u003ctd\u003e0.0\u003c/td\u003e\n      \u003ctd\u003e0.0\u003c/td\u003e\n      \u003ctd\u003e0.0\u003c/td\u003e\n      \u003ctd\u003e0.0\u003c/td\u003e\n      \u003ctd\u003e0.0\u003c/td\u003e\n      \u003ctd\u003e0.0\u003c/td\u003e\n      \u003ctd\u003e0.0\u003c/td\u003e\n      \u003ctd\u003e0.0\u003c/td\u003e\n      \u003ctd\u003e0\u003c/td\u003e\n      \u003ctd\u003e0\u003c/td\u003e\n    \u003c/tr\u003e\n  \u003c/tbody\u003e\n\u003c/table\u003e\n\u003cp\u003e5 rows × 42 columns\u003c/p\u003e\n\u003c/div\u003e"
          },
          "metadata": {},
          "output_type": "execute_result",
          "execution_count": 25
        }
      ],
      "source": "base.df_clm_baselayer.head()\n",
      "metadata": {
        "pycharm": {
          "metadata": false,
          "name": "#%%\n",
          "is_executing": false
        }
      }
    },
    {
      "cell_type": "markdown",
      "source": "### Step 2: Disaggregate any projected land class areas per subregion by what is fractionally represented in the base layer.  This prevents Demeter\u0027s built-in method from spliting the area evenly regardless of what is in the observed data.\n",
      "metadata": {
        "pycharm": {
          "metadata": false,
          "name": "#%% md\n"
        }
      }
    },
    {
      "cell_type": "markdown",
      "source": "#### Import the batch processing function we need:\n",
      "metadata": {
        "pycharm": {
          "metadata": false,
          "name": "#%% md\n"
        }
      }
    },
    {
      "cell_type": "code",
      "execution_count": 26,
      "outputs": [],
      "source": "import clm_demeter.reclassify_projected as rp\n",
      "metadata": {
        "pycharm": {
          "metadata": false,
          "name": "#%%\n",
          "is_executing": false
        }
      }
    },
    {
      "cell_type": "markdown",
      "source": "#### Check out the help on the batch function as well as the class that does the work:\n",
      "metadata": {
        "pycharm": {
          "metadata": false,
          "name": "#%% md\n"
        }
      }
    },
    {
      "cell_type": "code",
      "execution_count": 28,
      "outputs": [
        {
          "name": "stdout",
          "text": [
            "Help on function batch_process_split in module clm_demeter.reclassify_projected:\n\nbatch_process_split(projected_allocation_file, observed_baselayer_file, projected_file, out_projected_file, metric, gcam_year_list)\n    Batch process projected land class disaggregation.\n    \n    :param projected_allocation_file:   Full path with file name and extension of the projected allocation file from\n                                        Demeter that maps GCAM land classes to the final land cover classes in\n                                        Demeter.\n    \n    :param observed_file:               Full path with file name and extension of the observed data file to be used in the\n                                        Demeter run.\n    \n    :param projected_file:              Full path with file name and extension of the projected data file that has been\n                                        extracted from a GCAM output database for use with Demeter.\n    \n    :param out_projected_file:          Full path with file name and extension to save the modified projected file to.\n    \n    :param metric:                      Name of the subregion used. Either \u0027basin_id\u0027 or \u0027aez_id\u0027.\n    \n    :param gcam_year_list:              List of GCAM years to process.\n    \n    :return:                            Modified projected data frame.\n\n"
          ],
          "output_type": "stream"
        }
      ],
      "source": "help(rp.batch_process_split)\n",
      "metadata": {
        "pycharm": {
          "metadata": false,
          "name": "#%%\n",
          "is_executing": false
        }
      }
    },
    {
      "cell_type": "code",
      "execution_count": 29,
      "outputs": [
        {
          "name": "stdout",
          "text": [
            "Help on class GcamLandclassSplit in module clm_demeter.reclassify_projected:\n\nclass GcamLandclassSplit(builtins.object)\n |  Split a GCAM landclass into multiple classes based on the fractional amount present in the observed data per\n |  subregion.  This method is more desirable than the default \"even percentage\" split that Demeter conducts.  The\n |  output file replaces the GCAM target landclass (e.g. RockIceDesert) with the user-selected classes (e.g. snow and\n |  sparse) per subregion.  The new file becomes what is referenced as the projected file in Demeter.\n |  \n |  :param observed_file:               Full path with file name and extension of the observed data file to be used in the\n |                                      Demeter run.\n |  \n |  :param projected_file:              Full path with file name and extension of the projected data file that has been\n |                                      extracted from a GCAM output database for use with Demeter.\n |  \n |  :param target_landclass:            Name of the landclass from the projected file to split (e.g. RockIceDesert).\n |  \n |  :param observed_landclasses:        List of landclass names from the observed data to substitute (e.g. [\u0027snow\u0027, \u0027sparse\u0027].\n |  \n |  :param metric:                      Name of the subregion used. Either \u0027basin_id\u0027 or \u0027aez_id\u0027.\n |  \n |  :param gcam_year_list:              List of GCAM years to process.\n |  \n |  :param out_file:                    Full path with file name and extension for the altered projected data file.\n |  \n |  :return:                            Data frame; save as file\n |  \n |  Methods defined here:\n |  \n |  __init__(self, observed_file, projected_file, target_landclass, observed_landclasses, metric, gcam_year_list, out_file\u003dNone)\n |      Initialize self.  See help(type(self)) for accurate signature.\n |  \n |  calc_observed_fraction(self)\n |      Calculate the fraction of land area for each target observed landclass per subregion.\n |      \n |      :return:                    Dictionary; {region_metric_id: (obs_lc, ...), ...}\n |  \n |  disaggregate_landclass(self)\n |      Disaggregate GCAM target landclass using observed data fraction.  Save output to file.\n |      \n |      :return:                    Data frame\n |  \n |  ----------------------------------------------------------------------\n |  Data descriptors defined here:\n |  \n |  __dict__\n |      dictionary for instance variables (if defined)\n |  \n |  __weakref__\n |      list of weak references to the object (if defined)\n |  \n |  ----------------------------------------------------------------------\n |  Data and other attributes defined here:\n |  \n |  PRJ_LANDCLASS_FIELD \u003d \u0027landclass\u0027\n |  \n |  PRJ_METRIC_ID_FIELD \u003d \u0027metric_id\u0027\n |  \n |  REGION_ID_FIELD \u003d \u0027region_id\u0027\n |  \n |  REGION_NAME_FIELD \u003d \u0027region\u0027\n |  \n |  UNIT_FIELD \u003d \u0027Units\u0027\n\n"
          ],
          "output_type": "stream"
        }
      ],
      "source": "help(rp.GcamLandclassSplit)\n",
      "metadata": {
        "pycharm": {
          "metadata": false,
          "name": "#%%\n",
          "is_executing": false
        }
      }
    },
    {
      "cell_type": "markdown",
      "source": "#### Set the paths to our files including the desired output; let\u0027s use the output base layer from above:\n",
      "metadata": {
        "pycharm": {
          "metadata": false
        }
      }
    },
    {
      "cell_type": "code",
      "execution_count": 30,
      "outputs": [],
      "source": "projected_allocation_file \u003d \u0027/Users/d3y010/projects/demeter/clm/gcam_allocation_rules.csv\u0027\nprojected_file \u003d \u0027/Users/d3y010/projects/demeter/clm/gcam_ssp4_34_lumip.csv\u0027\nout_projected_file \u003d \u0027/Users/d3y010/projects/demeter/clm/gcam_ssp4_34_lumip_disagg.csv\u0027\nmetric \u003d \u0027aez_id\u0027\ngcam_year_list \u003d [1990] + list(range(2005, 2105, 5))\n",
      "metadata": {
        "pycharm": {
          "metadata": false,
          "name": "#%%\n",
          "is_executing": false
        }
      }
    },
    {
      "cell_type": "markdown",
      "source": "#### Run batch disaggregation of land classes:\n",
      "metadata": {
        "pycharm": {
          "metadata": false,
          "name": "#%% md\n"
        }
      }
    },
    {
      "cell_type": "code",
      "execution_count": 32,
      "outputs": [
        {
          "name": "stdout",
          "text": [
            "Disaggregating projected land class \u0027biomass\u0027 to \u0027[\u0027Bioenergy_rf\u0027, \u0027Bioenergy_irr\u0027]\u0027\n",
            "Disaggregating projected land class \u0027Corn\u0027 to \u0027[\u0027Corn_rf\u0027, \u0027Corn_irr\u0027]\u0027\n",
            "Disaggregating projected land class \u0027FiberCrop\u0027 to \u0027[\u0027Cotton_rf\u0027, \u0027Cotton_irr\u0027]\u0027\n",
            "Disaggregating projected land class \u0027FodderGrass\u0027 to \u0027[\u0027Fodder_rf\u0027, \u0027Fodder_irr\u0027]\u0027\n",
            "Disaggregating projected land class \u0027FodderHerb\u0027 to \u0027[\u0027Fodder_rf\u0027, \u0027Fodder_irr\u0027]\u0027\n",
            "Disaggregating projected land class \u0027Forest\u0027 to \u0027[\u0027NET_tem\u0027, \u0027NET_bor\u0027, \u0027NDT_bor\u0027, \u0027BET_tro\u0027, \u0027BET_tem\u0027, \u0027BDT_tro\u0027, \u0027BDT_tem\u0027, \u0027BDT_bor\u0027]\u0027\n",
            "Disaggregating projected land class \u0027Grassland\u0027 to \u0027[\u0027C3_gra_arc\u0027, \u0027C3_gra\u0027, \u0027C4_gra\u0027]\u0027\n",
            "Disaggregating projected land class \u0027MiscCrop\u0027 to \u0027[\u0027OtherCrop_rf\u0027, \u0027OtherCrop_irr\u0027]\u0027\n",
            "Disaggregating projected land class \u0027OilCrop\u0027 to \u0027[\u0027Soy_rf\u0027, \u0027Soy_irr\u0027]\u0027\n",
            "Disaggregating projected land class \u0027OtherArableLand\u0027 to \u0027[\u0027OtherCrop_rf\u0027, \u0027OtherCrop_irr\u0027]\u0027\n",
            "Disaggregating projected land class \u0027OtherGrain\u0027 to \u0027[\u0027OtherCrop_rf\u0027, \u0027OtherCrop_irr\u0027]\u0027\n",
            "Disaggregating projected land class \u0027PalmFruit\u0027 to \u0027[\u0027Palm_rf\u0027, \u0027Palm_irr\u0027]\u0027\n",
            "Disaggregating projected land class \u0027Pasture\u0027 to \u0027[\u0027Fodder_irr\u0027]\u0027\nDisaggregating projected land class \u0027Rice\u0027 to \u0027[\u0027Rice_rf\u0027, \u0027Rice_irr\u0027]\u0027\n",
            "Disaggregating projected land class \u0027RockIceDesert\u0027 to \u0027[\u0027Barren\u0027]\u0027\nDisaggregating projected land class \u0027Root_Tuber\u0027 to \u0027[\u0027OtherCrop_rf\u0027, \u0027OtherCrop_irr\u0027]\u0027\n",
            "Disaggregating projected land class \u0027Shrubland\u0027 to \u0027[\u0027BES_tem\u0027, \u0027BDS_tem\u0027, \u0027BDS_bor\u0027]\u0027\n",
            "Disaggregating projected land class \u0027SugarCrop\u0027 to \u0027[\u0027Sugarcrop_rf\u0027, \u0027Sugarcrop_irr\u0027]\u0027\n",
            "Disaggregating projected land class \u0027Tundra\u0027 to \u0027[\u0027BDS_bor\u0027, \u0027C3_gra_arc\u0027, \u0027C3_gra\u0027, \u0027C4_gra\u0027]\u0027\n",
            "Disaggregating projected land class \u0027UnmanagedForest\u0027 to \u0027[\u0027NET_tem\u0027, \u0027NET_bor\u0027, \u0027NDT_bor\u0027, \u0027BET_tro\u0027, \u0027BET_tem\u0027, \u0027BDT_tro\u0027, \u0027BDT_tem\u0027, \u0027BDT_bor\u0027]\u0027\n",
            "Disaggregating projected land class \u0027UnmanagedPasture\u0027 to \u0027[\u0027Fodder_rf\u0027]\u0027\nDisaggregating projected land class \u0027UrbanLand\u0027 to \u0027[\u0027Urban\u0027]\u0027\nDisaggregating projected land class \u0027Wheat\u0027 to \u0027[\u0027Wheat_rf\u0027, \u0027Wheat_irr\u0027]\u0027\n"
          ],
          "output_type": "stream"
        }
      ],
      "source": "proj \u003d rp.batch_process_split(projected_allocation_file, \n                                out_clm_baselayer_file,\n                                projected_file,\n                                out_projected_file,\n                                metric,\n                                gcam_year_list)",
      "metadata": {
        "pycharm": {
          "metadata": false,
          "name": "#%%\n",
          "is_executing": false
        }
      }
    },
    {
      "cell_type": "code",
      "source": "#### Take a look at the resulting data frame to 5 rows:\nproj.head()",
      "metadata": {
        "pycharm": {
          "metadata": false,
          "name": "#%% md \n",
          "is_executing": false
        }
      },
      "execution_count": 33,
      "outputs": [
        {
          "data": {
            "text/plain": "           region  region_id  metric_id landclass      Units        1990  \\\n0  Africa_Eastern          2          1   BDS_bor  thous km2    0.035590   \n1  Africa_Eastern          2          1   BDS_tem  thous km2  292.910145   \n2  Africa_Eastern          2          1   BDT_bor  thous km2    0.000252   \n3  Africa_Eastern          2          1   BDT_tem  thous km2    0.037943   \n4  Africa_Eastern          2          1   BDT_tro  thous km2    2.663521   \n\n         2005        2010        2015        2020    ...            2055  \\\n0    0.039828    0.039904    0.039074    0.037952    ...        0.022381   \n1  327.793526  328.418034  321.587043  312.351053    ...      184.197236   \n2    0.000067    0.000101    0.000102    0.000103    ...        0.000104   \n3    0.010136    0.015171    0.015332    0.015528    ...        0.015726   \n4    0.711554    1.064938    1.076285    1.090025    ...        1.103949   \n\n         2060        2065        2070       2075       2080       2085  \\\n0    0.019151    0.015931    0.012804   0.009982   0.007677   0.005844   \n1  157.619516  131.114045  105.378570  82.151223  63.185178  48.097220   \n2    0.000099    0.000092    0.000084   0.000076   0.000069   0.000064   \n3    0.014857    0.013800    0.012623   0.011472   0.010442   0.009580   \n4    1.042895    0.968740    0.886096   0.805303   0.732982   0.672478   \n\n        2090       2095       2100  \n0   0.004404   0.003245   0.002363  \n1  36.245917  26.705491  19.452092  \n2   0.000058   0.000053   0.000047  \n3   0.008767   0.007911   0.007116  \n4   0.615391   0.555352   0.499502  \n\n[5 rows x 26 columns]",
            "text/html": "\u003cdiv\u003e\n\u003cstyle scoped\u003e\n    .dataframe tbody tr th:only-of-type {\n        vertical-align: middle;\n    }\n\n    .dataframe tbody tr th {\n        vertical-align: top;\n    }\n\n    .dataframe thead th {\n        text-align: right;\n    }\n\u003c/style\u003e\n\u003ctable border\u003d\"1\" class\u003d\"dataframe\"\u003e\n  \u003cthead\u003e\n    \u003ctr style\u003d\"text-align: right;\"\u003e\n      \u003cth\u003e\u003c/th\u003e\n      \u003cth\u003eregion\u003c/th\u003e\n      \u003cth\u003eregion_id\u003c/th\u003e\n      \u003cth\u003emetric_id\u003c/th\u003e\n      \u003cth\u003elandclass\u003c/th\u003e\n      \u003cth\u003eUnits\u003c/th\u003e\n      \u003cth\u003e1990\u003c/th\u003e\n      \u003cth\u003e2005\u003c/th\u003e\n      \u003cth\u003e2010\u003c/th\u003e\n      \u003cth\u003e2015\u003c/th\u003e\n      \u003cth\u003e2020\u003c/th\u003e\n      \u003cth\u003e...\u003c/th\u003e\n      \u003cth\u003e2055\u003c/th\u003e\n      \u003cth\u003e2060\u003c/th\u003e\n      \u003cth\u003e2065\u003c/th\u003e\n      \u003cth\u003e2070\u003c/th\u003e\n      \u003cth\u003e2075\u003c/th\u003e\n      \u003cth\u003e2080\u003c/th\u003e\n      \u003cth\u003e2085\u003c/th\u003e\n      \u003cth\u003e2090\u003c/th\u003e\n      \u003cth\u003e2095\u003c/th\u003e\n      \u003cth\u003e2100\u003c/th\u003e\n    \u003c/tr\u003e\n  \u003c/thead\u003e\n  \u003ctbody\u003e\n    \u003ctr\u003e\n      \u003cth\u003e0\u003c/th\u003e\n      \u003ctd\u003eAfrica_Eastern\u003c/td\u003e\n      \u003ctd\u003e2\u003c/td\u003e\n      \u003ctd\u003e1\u003c/td\u003e\n      \u003ctd\u003eBDS_bor\u003c/td\u003e\n      \u003ctd\u003ethous km2\u003c/td\u003e\n      \u003ctd\u003e0.035590\u003c/td\u003e\n      \u003ctd\u003e0.039828\u003c/td\u003e\n      \u003ctd\u003e0.039904\u003c/td\u003e\n      \u003ctd\u003e0.039074\u003c/td\u003e\n      \u003ctd\u003e0.037952\u003c/td\u003e\n      \u003ctd\u003e...\u003c/td\u003e\n      \u003ctd\u003e0.022381\u003c/td\u003e\n      \u003ctd\u003e0.019151\u003c/td\u003e\n      \u003ctd\u003e0.015931\u003c/td\u003e\n      \u003ctd\u003e0.012804\u003c/td\u003e\n      \u003ctd\u003e0.009982\u003c/td\u003e\n      \u003ctd\u003e0.007677\u003c/td\u003e\n      \u003ctd\u003e0.005844\u003c/td\u003e\n      \u003ctd\u003e0.004404\u003c/td\u003e\n      \u003ctd\u003e0.003245\u003c/td\u003e\n      \u003ctd\u003e0.002363\u003c/td\u003e\n    \u003c/tr\u003e\n    \u003ctr\u003e\n      \u003cth\u003e1\u003c/th\u003e\n      \u003ctd\u003eAfrica_Eastern\u003c/td\u003e\n      \u003ctd\u003e2\u003c/td\u003e\n      \u003ctd\u003e1\u003c/td\u003e\n      \u003ctd\u003eBDS_tem\u003c/td\u003e\n      \u003ctd\u003ethous km2\u003c/td\u003e\n      \u003ctd\u003e292.910145\u003c/td\u003e\n      \u003ctd\u003e327.793526\u003c/td\u003e\n      \u003ctd\u003e328.418034\u003c/td\u003e\n      \u003ctd\u003e321.587043\u003c/td\u003e\n      \u003ctd\u003e312.351053\u003c/td\u003e\n      \u003ctd\u003e...\u003c/td\u003e\n      \u003ctd\u003e184.197236\u003c/td\u003e\n      \u003ctd\u003e157.619516\u003c/td\u003e\n      \u003ctd\u003e131.114045\u003c/td\u003e\n      \u003ctd\u003e105.378570\u003c/td\u003e\n      \u003ctd\u003e82.151223\u003c/td\u003e\n      \u003ctd\u003e63.185178\u003c/td\u003e\n      \u003ctd\u003e48.097220\u003c/td\u003e\n      \u003ctd\u003e36.245917\u003c/td\u003e\n      \u003ctd\u003e26.705491\u003c/td\u003e\n      \u003ctd\u003e19.452092\u003c/td\u003e\n    \u003c/tr\u003e\n    \u003ctr\u003e\n      \u003cth\u003e2\u003c/th\u003e\n      \u003ctd\u003eAfrica_Eastern\u003c/td\u003e\n      \u003ctd\u003e2\u003c/td\u003e\n      \u003ctd\u003e1\u003c/td\u003e\n      \u003ctd\u003eBDT_bor\u003c/td\u003e\n      \u003ctd\u003ethous km2\u003c/td\u003e\n      \u003ctd\u003e0.000252\u003c/td\u003e\n      \u003ctd\u003e0.000067\u003c/td\u003e\n      \u003ctd\u003e0.000101\u003c/td\u003e\n      \u003ctd\u003e0.000102\u003c/td\u003e\n      \u003ctd\u003e0.000103\u003c/td\u003e\n      \u003ctd\u003e...\u003c/td\u003e\n      \u003ctd\u003e0.000104\u003c/td\u003e\n      \u003ctd\u003e0.000099\u003c/td\u003e\n      \u003ctd\u003e0.000092\u003c/td\u003e\n      \u003ctd\u003e0.000084\u003c/td\u003e\n      \u003ctd\u003e0.000076\u003c/td\u003e\n      \u003ctd\u003e0.000069\u003c/td\u003e\n      \u003ctd\u003e0.000064\u003c/td\u003e\n      \u003ctd\u003e0.000058\u003c/td\u003e\n      \u003ctd\u003e0.000053\u003c/td\u003e\n      \u003ctd\u003e0.000047\u003c/td\u003e\n    \u003c/tr\u003e\n    \u003ctr\u003e\n      \u003cth\u003e3\u003c/th\u003e\n      \u003ctd\u003eAfrica_Eastern\u003c/td\u003e\n      \u003ctd\u003e2\u003c/td\u003e\n      \u003ctd\u003e1\u003c/td\u003e\n      \u003ctd\u003eBDT_tem\u003c/td\u003e\n      \u003ctd\u003ethous km2\u003c/td\u003e\n      \u003ctd\u003e0.037943\u003c/td\u003e\n      \u003ctd\u003e0.010136\u003c/td\u003e\n      \u003ctd\u003e0.015171\u003c/td\u003e\n      \u003ctd\u003e0.015332\u003c/td\u003e\n      \u003ctd\u003e0.015528\u003c/td\u003e\n      \u003ctd\u003e...\u003c/td\u003e\n      \u003ctd\u003e0.015726\u003c/td\u003e\n      \u003ctd\u003e0.014857\u003c/td\u003e\n      \u003ctd\u003e0.013800\u003c/td\u003e\n      \u003ctd\u003e0.012623\u003c/td\u003e\n      \u003ctd\u003e0.011472\u003c/td\u003e\n      \u003ctd\u003e0.010442\u003c/td\u003e\n      \u003ctd\u003e0.009580\u003c/td\u003e\n      \u003ctd\u003e0.008767\u003c/td\u003e\n      \u003ctd\u003e0.007911\u003c/td\u003e\n      \u003ctd\u003e0.007116\u003c/td\u003e\n    \u003c/tr\u003e\n    \u003ctr\u003e\n      \u003cth\u003e4\u003c/th\u003e\n      \u003ctd\u003eAfrica_Eastern\u003c/td\u003e\n      \u003ctd\u003e2\u003c/td\u003e\n      \u003ctd\u003e1\u003c/td\u003e\n      \u003ctd\u003eBDT_tro\u003c/td\u003e\n      \u003ctd\u003ethous km2\u003c/td\u003e\n      \u003ctd\u003e2.663521\u003c/td\u003e\n      \u003ctd\u003e0.711554\u003c/td\u003e\n      \u003ctd\u003e1.064938\u003c/td\u003e\n      \u003ctd\u003e1.076285\u003c/td\u003e\n      \u003ctd\u003e1.090025\u003c/td\u003e\n      \u003ctd\u003e...\u003c/td\u003e\n      \u003ctd\u003e1.103949\u003c/td\u003e\n      \u003ctd\u003e1.042895\u003c/td\u003e\n      \u003ctd\u003e0.968740\u003c/td\u003e\n      \u003ctd\u003e0.886096\u003c/td\u003e\n      \u003ctd\u003e0.805303\u003c/td\u003e\n      \u003ctd\u003e0.732982\u003c/td\u003e\n      \u003ctd\u003e0.672478\u003c/td\u003e\n      \u003ctd\u003e0.615391\u003c/td\u003e\n      \u003ctd\u003e0.555352\u003c/td\u003e\n      \u003ctd\u003e0.499502\u003c/td\u003e\n    \u003c/tr\u003e\n  \u003c/tbody\u003e\n\u003c/table\u003e\n\u003cp\u003e5 rows × 26 columns\u003c/p\u003e\n\u003c/div\u003e"
          },
          "metadata": {},
          "output_type": "execute_result",
          "execution_count": 33
        }
      ]
    },
    {
      "cell_type": "code",
      "execution_count": null,
      "outputs": [],
      "source": "\n",
      "metadata": {
        "pycharm": {
          "metadata": false,
          "name": "#%%\n"
        }
      }
    }
  ],
  "metadata": {
    "language_info": {
      "codemirror_mode": {
        "name": "ipython",
        "version": 2
      },
      "file_extension": ".py",
      "mimetype": "text/x-python",
      "name": "python",
      "nbconvert_exporter": "python",
      "pygments_lexer": "ipython2",
      "version": "2.7.6"
    },
    "kernelspec": {
      "name": "python3",
      "language": "python",
      "display_name": "Python 3"
    },
    "stem_cell": {
      "cell_type": "raw",
      "source": "",
      "metadata": {
        "pycharm": {
          "metadata": false
        }
      }
    }
  },
  "nbformat": 4,
  "nbformat_minor": 0
}