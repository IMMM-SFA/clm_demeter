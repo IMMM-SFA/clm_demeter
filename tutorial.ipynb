{
 "cells": [
  {
   "cell_type": "markdown",
   "metadata": {
    "pycharm": {
     "metadata": false,
     "name": "#%% md\n"
    }
   },
   "source": [
    "## CLM-Demeter integration tutorial\n"
   ]
  },
  {
   "cell_type": "markdown",
   "metadata": {
    "pycharm": {
     "metadata": false,
     "name": "#%% md\n"
    }
   },
   "source": [
    "#### This tutorial describes the steps necessary to produce CLM-derived input files for Demeter and execute Demeter using PIC using the created inputs.\n"
   ]
  },
  {
   "cell_type": "markdown",
   "metadata": {
    "pycharm": {
     "metadata": false,
     "name": "#%% md\n"
    }
   },
   "source": [
    "#### The files stored to execute the CLM-Demeter experiment can be found here:\n",
    "`/pic/projects/GCAM/demeter/runs/clm`\n",
    "\n",
    "#### The following are the associated file paths and additional info to run the code:\n"
   ]
  },
  {
   "cell_type": "code",
   "execution_count": 5,
   "metadata": {
    "pycharm": {
     "is_executing": false,
     "metadata": false,
     "name": "#%%\n"
    }
   },
   "outputs": [],
   "source": [
    "import os\n",
    "\n",
    "project_dir = '/pic/projects/GCAM/demeter/runs/clm'\n",
    "\n",
    "# file created to spatial represent the base year of 2005 at 0.05 degree for each CLM PFT in units squared-degrees\n",
    "original_baselayer_file = os.path.join(project_dir, 'inputs', 'observed', 'baselayerdata.csv')\n",
    "\n",
    "# output file to save the base layer reclassified from CLM to Demeter land classes to\n",
    "reclassified_baselayer_file = os.path.join(project_dir, 'inputs', 'observed', 'clm_baselayer_by_final_lcs.csv')\n",
    "\n",
    "# file allocating CLM PFTs to Demeter's final land classes\n",
    "spatial_allocation_file = os.path.join(project_dir, 'inputs', 'allocation', 'spatial_allocation_rules.csv')\n",
    "\n",
    "# file allocating GCAM land classes to Demeter's final land classes\n",
    "projected_allocation_file = os.path.join(project_dir, 'inputs', 'allocation', 'gcam_allocation_rules.csv')\n",
    "\n",
    "# output allocation file representing reclassification of GCAM land classes to Demeter's land classes\n",
    "out_proj_allocation_file = os.path.join(project_dir, 'inputs', 'allocation', 'gcam_allocation_rules_reclass.csv')\n",
    "\n",
    "# output allocation file representing reclassification of CLM PFTs to Demeter's land classes\n",
    "out_spat_allocation_file = os.path.join(project_dir, 'inputs', 'allocation', 'spatial_allocation_rules_reclass.csv')\n",
    "\n",
    "# file for land projections from GCAM for all years, subregions, and land classes\n",
    "projected_file = os.path.join(project_dir, 'inputs', 'projected', 'gcam_ssp4_34_lumip.csv')\n",
    "\n",
    "# output file to save the disaggregated land projections from GCAM to\n",
    "out_projected_file = os.path.join(project_dir, 'inputs', 'projected', 'gcam_ssp4_34_lumip_disagg.csv')\n",
    "\n",
    "# Either 'aez_id' or 'basin_id' depending on the version of GCAM used\n",
    "metric = 'aez_id'\n",
    "\n",
    "# list of GCAM years to process\n",
    "gcam_year_list = [1990] + list(range(2005, 2105, 5))\n",
    "\n",
    "project_dir_CLM = '/pic/projects/im3/lulc_thrust_area/minchen/Demeter_0.05deg_trial/Demeter_0.05deg_trial'\n",
    "\n",
    "# original CLM netcdf file\n",
    "orig_baselayer_netcdf_file = os.path.join(project_dir_CLM, 'mksrf_78pft_landuse_rc2000_c130927.nc')\n",
    "\n",
    "# ESACCI land cover file\n",
    "esacci_lu_file = os.path.join(project_dir_CLM, 'ESACCI-LC-aggregated-0.25Deg-merged1992-base.csv')\n",
    "\n",
    "# Nutrient availability file\n",
    "nut_avail_file = os.path.join(project_dir_CLM, '000_nutrientavail_hswd_NA_0.25.csv')\n",
    "\n",
    "# Soil quality file\n",
    "soil_qual_file = os.path.join(project_dir_CLM, '001_soilquality_hswd_0.25.csv')\n"
   ]
  },
  {
   "cell_type": "markdown",
   "metadata": {
    "pycharm": {
     "metadata": false
    }
   },
   "source": [
    "#### Import the modules we need from this package:\n"
   ]
  },
  {
   "cell_type": "code",
   "execution_count": 2,
   "metadata": {
    "pycharm": {
     "is_executing": false,
     "metadata": false,
     "name": "#%%\n"
    }
   },
   "outputs": [],
   "source": [
    "import clm_demeter.reclassify_projected as rp\n",
    "import clm_demeter.reclassify_allocation as ra\n",
    "\n",
    "from clm_demeter.reclassify_base import ReclassBaselayer\n",
    "from clm_demeter.prepare_baselayer import PrepareBaselayer"
   ]
  },
  {
   "cell_type": "markdown",
   "metadata": {
    "pycharm": {
     "metadata": false,
     "name": "#%% md\n"
    }
   },
   "source": [
    "### TODO:  Min to insert:\n",
    " -  the logic and any code that was used to create the original CLM base layer\n",
    " -  what CLM version and assumptions were used to generate the source data\n",
    " -  document how the transitions were mapped\n",
    " -  document how the treatment order was determined\n",
    " -  the GCAM version used in each of the LUMIP SSP4 runs (RCP 3.4 and RCP 6.0)\n"
   ]
  },
  {
   "cell_type": "markdown",
   "metadata": {},
   "source": [
    "### Step 0: Create the CLM base layer"
   ]
  },
  {
   "cell_type": "markdown",
   "metadata": {},
   "source": [
    "**Check out help on our PrepareBaselayer class to see what it requires:**"
   ]
  },
  {
   "cell_type": "code",
   "execution_count": null,
   "metadata": {},
   "outputs": [],
   "source": [
    "help(PrepareBaselayer)"
   ]
  },
  {
   "cell_type": "code",
   "execution_count": null,
   "metadata": {},
   "outputs": [],
   "source": [
    "PrepareBaselayer(orig_baselayer_netcdf_file, esacci_lu_file, nut_avail_file, soil_qual_file)"
   ]
  },
  {
   "cell_type": "markdown",
   "metadata": {
    "pycharm": {
     "metadata": false,
     "name": "#%% md\n"
    }
   },
   "source": [
    "### Step 1: Reclassify the existing CLM base layer that represents CLM PFTs to Demeter's desired output land classes\n"
   ]
  },
  {
   "cell_type": "markdown",
   "metadata": {
    "pycharm": {
     "metadata": false
    }
   },
   "source": [
    "#### Check out help on our `ReclassBaselayer` class to see what it requires:"
   ]
  },
  {
   "cell_type": "code",
   "execution_count": 17,
   "metadata": {
    "pycharm": {
     "is_executing": false,
     "metadata": false,
     "name": "#%%\n"
    }
   },
   "outputs": [
    {
     "name": "stdout",
     "output_type": "stream",
     "text": [
      "Help on class ReclassBaselayer in module clm_demeter.reclassify_base:\n",
      "\n",
      "class ReclassBaselayer(builtins.object)\n",
      " |  Reclassify CLM PFTs in the baselayer for Demeter to Demeter final landcover classes.\n",
      " |  \n",
      " |  :param clm_baselayer_file:              Full path with file name and extension to\n",
      " |                                          the CLM baselayer prepared for Demeter\n",
      " |                                          in units square-degrees.\n",
      " |  \n",
      " |  :param clm_spatial_allocation_file:     Full path with file name and extension to\n",
      " |                                          the Demeter spatial allocation file for CLM\n",
      " |                                          landclasses.\n",
      " |  \n",
      " |  :param out_clm_baselayer_file:          Full path with file name and extension to\n",
      " |                                          to save the reclassified baselayer.\n",
      " |  \n",
      " |  :method demeter_to_clm_map:             Create a dictionary of Demeter final landclasses\n",
      " |                                          to CLM PFTs. Returns dictionary of\n",
      " |                                          {final_landclass_name: [clm_pft, ...]}}.\n",
      " |  \n",
      " |  :method get_unique_clm_pfts:            Create a list of unique CLM PFTs represented in the\n",
      " |                                          baselayer.\n",
      " |  \n",
      " |  :method reclass_clm_baselayer:          Reclassify the existing CLM baselayer for Demeter\n",
      " |                                          to Demeter land cover classes.  Save output to\n",
      " |                                          new file. Returns data frame of reclassified data.\n",
      " |  \n",
      " |  # accessible upon initialization\n",
      " |  :attribute dem_to_clm_dict:             Dictionary of {final_landclass_name: [clm_pft, ...]}}.\n",
      " |  \n",
      " |  :attribute df_clm_baselayer:            Data frame of reclassified data.\n",
      " |  \n",
      " |  Methods defined here:\n",
      " |  \n",
      " |  __init__(self, clm_baselayer_file, clm_spatial_allocation_file, out_clm_baselayer_file)\n",
      " |      Initialize self.  See help(type(self)) for accurate signature.\n",
      " |  \n",
      " |  demeter_to_clm_map(self, true_value='1')\n",
      " |      Create a dictionary of Demeter final landclasses to CLM PFTs.\n",
      " |      \n",
      " |      :param true_value:                      The value that represents true in the allocation file.\n",
      " |      \n",
      " |      :return:                                Dictionary of {final_landclass_name: [clm_pft, ...]}}\n",
      " |  \n",
      " |  get_unique_clm_pfts(self)\n",
      " |      Create a list of unique CLM PFTs represented in the baselayer.\n",
      " |      \n",
      " |      :return:                             Unique list of CLM PFTs\n",
      " |  \n",
      " |  reclass_clm_baselayer(self)\n",
      " |      Reclassify the existing CLM baselayer for Demeter to Demeter land cover classes.\n",
      " |      Save output to new file.\n",
      " |      \n",
      " |      :return:                             Data frame of reclassified data\n",
      " |  \n",
      " |  ----------------------------------------------------------------------\n",
      " |  Data descriptors defined here:\n",
      " |  \n",
      " |  __dict__\n",
      " |      dictionary for instance variables (if defined)\n",
      " |  \n",
      " |  __weakref__\n",
      " |      list of weak references to the object (if defined)\n",
      "\n"
     ]
    }
   ],
   "source": [
    "help(ReclassBaselayer)\n"
   ]
  },
  {
   "cell_type": "markdown",
   "metadata": {
    "pycharm": {
     "metadata": false,
     "name": "#%% md\n"
    }
   },
   "source": [
    "#### Generate a reclassififed base layer for Demeter from the original CLM base layer:\n"
   ]
  },
  {
   "cell_type": "code",
   "execution_count": 9,
   "metadata": {
    "pycharm": {
     "is_executing": false,
     "metadata": false,
     "name": "#%%\n"
    }
   },
   "outputs": [],
   "source": [
    "base = ReclassBaselayer(original_baselayer_file, spatial_allocation_file, reclassified_baselayer_file)\n"
   ]
  },
  {
   "cell_type": "markdown",
   "metadata": {
    "pycharm": {
     "metadata": false,
     "name": "#%% md\n"
    }
   },
   "source": [
    "### Step 2: Disaggregate any projected land class areas per subregion by what is fractionally represented in the base layer.  This prevents Demeter's built-in method from spliting the area evenly regardless of what is in the observed data.\n"
   ]
  },
  {
   "cell_type": "markdown",
   "metadata": {
    "pycharm": {
     "metadata": false,
     "name": "#%% md\n"
    }
   },
   "source": [
    "#### Check out the help on the batch function as well as the class that does the work:\n"
   ]
  },
  {
   "cell_type": "code",
   "execution_count": 18,
   "metadata": {
    "pycharm": {
     "is_executing": false,
     "metadata": false,
     "name": "#%%\n"
    }
   },
   "outputs": [
    {
     "name": "stdout",
     "output_type": "stream",
     "text": [
      "Help on function batch_process_split in module clm_demeter.reclassify_projected:\n",
      "\n",
      "batch_process_split(projected_allocation_file, observed_baselayer_file, projected_file, out_projected_file, metric, gcam_year_list)\n",
      "    Batch process projected land class disaggregation.\n",
      "    \n",
      "    :param projected_allocation_file:   Full path with file name and extension of the projected allocation file from\n",
      "                                        Demeter that maps GCAM land classes to the final land cover classes in\n",
      "                                        Demeter.\n",
      "    \n",
      "    :param observed_file:               Full path with file name and extension of the observed data file to be used in the\n",
      "                                        Demeter run.\n",
      "    \n",
      "    :param projected_file:              Full path with file name and extension of the projected data file that has been\n",
      "                                        extracted from a GCAM output database for use with Demeter.\n",
      "    \n",
      "    :param out_projected_file:          Full path with file name and extension to save the modified projected file to.\n",
      "    \n",
      "    :param metric:                      Name of the subregion used. Either 'basin_id' or 'aez_id'.\n",
      "    \n",
      "    :param gcam_year_list:              List of GCAM years to process.\n",
      "    \n",
      "    :return:                            Modified projected data frame.\n",
      "\n"
     ]
    }
   ],
   "source": [
    "help(rp.batch_process_split)\n"
   ]
  },
  {
   "cell_type": "code",
   "execution_count": 19,
   "metadata": {
    "pycharm": {
     "is_executing": false,
     "metadata": false,
     "name": "#%%\n"
    }
   },
   "outputs": [
    {
     "name": "stdout",
     "output_type": "stream",
     "text": [
      "Help on class GcamLandclassSplit in module clm_demeter.reclassify_projected:\n",
      "\n",
      "class GcamLandclassSplit(builtins.object)\n",
      " |  Split a GCAM landclass into multiple classes based on the fractional amount present in the observed data per\n",
      " |  subregion.  This method is more desirable than the default \"even percentage\" split that Demeter conducts.  The\n",
      " |  output file replaces the GCAM target landclass (e.g. RockIceDesert) with the user-selected classes (e.g. snow and\n",
      " |  sparse) per subregion.  The new file becomes what is referenced as the projected file in Demeter.\n",
      " |  \n",
      " |  :param observed_file:               Full path with file name and extension of the observed data file to be used in the\n",
      " |                                      Demeter run.\n",
      " |  \n",
      " |  :param projected_file:              Full path with file name and extension of the projected data file that has been\n",
      " |                                      extracted from a GCAM output database for use with Demeter.\n",
      " |  \n",
      " |  :param target_landclass:            Name of the landclass from the projected file to split (e.g. RockIceDesert).\n",
      " |  \n",
      " |  :param observed_landclasses:        List of landclass names from the observed data to substitute (e.g. ['snow', 'sparse'].\n",
      " |  \n",
      " |  :param metric:                      Name of the subregion used. Either 'basin_id' or 'aez_id'.\n",
      " |  \n",
      " |  :param gcam_year_list:              List of GCAM years to process.\n",
      " |  \n",
      " |  :param out_file:                    Full path with file name and extension for the altered projected data file.\n",
      " |  \n",
      " |  :return:                            Data frame; save as file\n",
      " |  \n",
      " |  Methods defined here:\n",
      " |  \n",
      " |  __init__(self, observed_file, projected_file, target_landclass, observed_landclasses, metric, gcam_year_list, out_file=None)\n",
      " |      Initialize self.  See help(type(self)) for accurate signature.\n",
      " |  \n",
      " |  calc_observed_fraction(self)\n",
      " |      Calculate the fraction of land area for each target observed landclass per subregion.\n",
      " |      \n",
      " |      :return:                    Dictionary; {region_metric_id: (obs_lc, ...), ...}\n",
      " |  \n",
      " |  disaggregate_landclass(self)\n",
      " |      Disaggregate GCAM target landclass using observed data fraction.  Save output to file.\n",
      " |      \n",
      " |      :return:                    Data frame\n",
      " |  \n",
      " |  ----------------------------------------------------------------------\n",
      " |  Data descriptors defined here:\n",
      " |  \n",
      " |  __dict__\n",
      " |      dictionary for instance variables (if defined)\n",
      " |  \n",
      " |  __weakref__\n",
      " |      list of weak references to the object (if defined)\n",
      " |  \n",
      " |  ----------------------------------------------------------------------\n",
      " |  Data and other attributes defined here:\n",
      " |  \n",
      " |  PRJ_LANDCLASS_FIELD = 'landclass'\n",
      " |  \n",
      " |  PRJ_METRIC_ID_FIELD = 'metric_id'\n",
      " |  \n",
      " |  REGION_ID_FIELD = 'region_id'\n",
      " |  \n",
      " |  REGION_NAME_FIELD = 'region'\n",
      " |  \n",
      " |  UNIT_FIELD = 'Units'\n",
      "\n"
     ]
    }
   ],
   "source": [
    "help(rp.GcamLandclassSplit)\n"
   ]
  },
  {
   "cell_type": "markdown",
   "metadata": {
    "pycharm": {
     "metadata": false,
     "name": "#%% md\n"
    }
   },
   "source": [
    "#### Run batch disaggregation of land classes:\n",
    "#### TODO:  Notice in the output that Demeter land class `Urban` is not represented in the CLM base layer. This needs to be addressed in the base layer.\n"
   ]
  },
  {
   "cell_type": "code",
   "execution_count": 6,
   "metadata": {
    "pycharm": {
     "is_executing": false,
     "metadata": false,
     "name": "#%%\n"
    }
   },
   "outputs": [
    {
     "name": "stdout",
     "output_type": "stream",
     "text": [
      "Disaggregating projected land class 'Corn' to '['Corn_rf', 'Corn_irr']'\n",
      "Disaggregating projected land class 'Wheat' to '['Wheat_rf', 'Wheat_irr']'\n",
      "Disaggregating projected land class 'Rice' to '['Rice_rf', 'Rice_irr']'\n",
      "Disaggregating projected land class 'Root_Tuber' to '['OtherCrop_rf', 'OtherCrop_irr']'\n",
      "Disaggregating projected land class 'OilCrop' to '['Soy_rf', 'Soy_irr']'\n",
      "Disaggregating projected land class 'SugarCrop' to '['Sugarcrop_rf', 'Sugarcrop_irr']'\n",
      "Disaggregating projected land class 'OtherGrain' to '['OtherCrop_rf', 'OtherCrop_irr']'\n",
      "Disaggregating projected land class 'FiberCrop' to '['Cotton_rf', 'Cotton_irr']'\n",
      "Disaggregating projected land class 'FodderGrass' to '['Fodder_rf', 'Fodder_irr']'\n",
      "Disaggregating projected land class 'FodderHerb' to '['Fodder_rf', 'Fodder_irr']'\n",
      "Disaggregating projected land class 'biomass' to '['Bioenergy_rf', 'Bioenergy_irr']'\n",
      "Disaggregating projected land class 'MiscCrop' to '['OtherCrop_rf', 'OtherCrop_irr']'\n",
      "Disaggregating projected land class 'OtherArableLand' to '['OtherCrop_rf', 'OtherCrop_irr']'\n",
      "Disaggregating projected land class 'PalmFruit' to '['Palm_rf', 'Palm_irr']'\n",
      "Disaggregating projected land class 'Pasture' to '['Fodder_irr']'\n",
      "Disaggregating projected land class 'UnmanagedPasture' to '['Fodder_rf']'\n",
      "Disaggregating projected land class 'UrbanLand' to '['Urban']'\n",
      "WARNING: One of the target projected landclasses '['region_id', 'aez_id', 'Urban']' in projected data is not in the observed data.\n",
      "Disaggregating projected land class 'Willow' to '['OtherCrop_rf', 'OtherCrop_irr']'\n",
      "Disaggregating projected land class 'Forest' to '['NET_tem', 'NET_bor', 'NDT_bor', 'BET_tro', 'BET_tem', 'BDT_tro', 'BDT_tem', 'BDT_bor']'\n",
      "Disaggregating projected land class 'UnmanagedForest' to '['NET_tem', 'NET_bor', 'NDT_bor', 'BET_tro', 'BET_tem', 'BDT_tro', 'BDT_tem', 'BDT_bor']'\n",
      "Disaggregating projected land class 'Shrubland' to '['BES_tem', 'BDS_tem', 'BDS_bor']'\n",
      "Disaggregating projected land class 'Grassland' to '['C3_gra_arc', 'C3_gra', 'C4_gra']'\n",
      "Disaggregating projected land class 'Tundra' to '['BDS_bor', 'C3_gra_arc', 'C3_gra', 'C4_gra']'\n",
      "Disaggregating projected land class 'RockIceDesert' to '['Barren']'\n"
     ]
    }
   ],
   "source": [
    "proj = rp.batch_process_split(projected_allocation_file, \n",
    "                                reclassified_baselayer_file,\n",
    "                                projected_file,\n",
    "                                out_projected_file,\n",
    "                                metric,\n",
    "                                gcam_year_list)\n"
   ]
  },
  {
   "cell_type": "markdown",
   "metadata": {
    "pycharm": {
     "is_executing": false,
     "metadata": false,
     "name": "#%% md\n"
    }
   },
   "source": [
    "### Step 3:  Reclassify the spatial and projected allocation file\n"
   ]
  },
  {
   "cell_type": "markdown",
   "metadata": {
    "pycharm": {
     "metadata": false,
     "name": "#%% md\n"
    }
   },
   "source": [
    "#### Check out help on the two functions we need:\n"
   ]
  },
  {
   "cell_type": "code",
   "execution_count": 21,
   "metadata": {
    "pycharm": {
     "is_executing": false,
     "metadata": false,
     "name": "#%%\n"
    }
   },
   "outputs": [
    {
     "name": "stdout",
     "output_type": "stream",
     "text": [
      "Help on function reclass_projected_allocation in module clm_demeter.reclassify_allocation:\n",
      "\n",
      "reclass_projected_allocation(projected_data_file, projected_allocation_file, out_proj_allocation_file)\n",
      "    Reclassify the projected allocation file for Demeter to account for classes that have\n",
      "    been disaggregated to Demeter's final land classes.\n",
      "    \n",
      "    :param projected_file:              Full path with file name and extension of the projected data file that has been\n",
      "                                        extracted from a GCAM output database for use with Demeter.\n",
      "    \n",
      "    :param projected_allocation_file:   Full path with file name and extension of the projected allocation file from\n",
      "                                        Demeter that maps GCAM land classes to the final land cover classes in\n",
      "                                        Demeter.\n",
      "    \n",
      "    :param out_proj_allocation_file:    Full path with file name and extension for the reclassified projected allocation\n",
      "                                        file.\n",
      "\n"
     ]
    }
   ],
   "source": [
    "help(ra.reclass_projected_allocation)\n"
   ]
  },
  {
   "cell_type": "code",
   "execution_count": 22,
   "metadata": {
    "pycharm": {
     "is_executing": false,
     "metadata": false,
     "name": "#%%\n"
    }
   },
   "outputs": [
    {
     "name": "stdout",
     "output_type": "stream",
     "text": [
      "Help on function reclass_spatial_allocation in module clm_demeter.reclassify_allocation:\n",
      "\n",
      "reclass_spatial_allocation(spatial_allocation_file, out_spatial_allocation_file, reclassified_baselayer_file)\n",
      "    Reclassify the spatial allocation file for Demeter to 1:1 land class relationships\n",
      "    for Demeter. Using the output of this functions assumes that the user has already\n",
      "    created a reclassified base layer.\n",
      "    \n",
      "    :param spatial_allocation_file:     Full path with file name and extension to\n",
      "                                        the Demeter spatial allocation file for CLM\n",
      "                                        landclasses.\n",
      "    \n",
      "    :param out_spat_allocation_file:    Full path with file name and extension for the reclassified spatial allocation\n",
      "                                        file.\n",
      "    \n",
      "    :param reclassified_baselayer_file: Full path with file name and extension to the reclassifed base layer.\n",
      "\n"
     ]
    }
   ],
   "source": [
    "help(ra.reclass_spatial_allocation)\n"
   ]
  },
  {
   "cell_type": "markdown",
   "metadata": {
    "pycharm": {
     "metadata": false,
     "name": "#%% md\n"
    }
   },
   "source": [
    "#### Reclass the projected allocation file:\n"
   ]
  },
  {
   "cell_type": "code",
   "execution_count": 3,
   "metadata": {
    "pycharm": {
     "is_executing": false,
     "metadata": false,
     "name": "#%%\n"
    }
   },
   "outputs": [
    {
     "name": "stdout",
     "output_type": "stream",
     "text": [
      "Projected land class 'Jatropha' not in Demeter land classes.\n"
     ]
    }
   ],
   "source": [
    "ra.reclass_projected_allocation(out_projected_file, projected_allocation_file, out_proj_allocation_file)\n"
   ]
  },
  {
   "cell_type": "markdown",
   "metadata": {
    "pycharm": {
     "metadata": false,
     "name": "#%% md\n"
    }
   },
   "source": [
    "#### Reclass the spatial allocation file:\n"
   ]
  },
  {
   "cell_type": "code",
   "execution_count": 4,
   "metadata": {
    "pycharm": {
     "is_executing": false,
     "metadata": false,
     "name": "#%%\n"
    }
   },
   "outputs": [
    {
     "name": "stdout",
     "output_type": "stream",
     "text": [
      "Missing land class in spatial base data:  Urban\n",
      "WARNING: 'Urban' will be excluded from the allocation file.\n"
     ]
    }
   ],
   "source": [
    "ra.reclass_spatial_allocation(spatial_allocation_file, out_spat_allocation_file, reclassified_baselayer_file)\n"
   ]
  },
  {
   "cell_type": "markdown",
   "metadata": {
    "pycharm": {
     "metadata": false,
     "name": "#%% md\n"
    }
   },
   "source": [
    "### Step 4:  Set-up Demeter run\n",
    "\n",
    "#### Make sure the configuration file is set appropriately (the following uses an example that can be ran on PIC).  This file named `config_ssp4_rcp3p4.ini` is what is called by Demeter to initialize a run.\n",
    "```ini\n",
    "[STRUCTURE]\n",
    "root_dir =                      /pic/projects/GCAM/demeter/runs/clm\n",
    "in_dir =                        inputs\n",
    "out_dir =                       outputs\n",
    "\n",
    "[INPUTS]\n",
    "allocation_dir =                allocation\n",
    "observed_dir =                  observed\n",
    "constraints_dir =               constraints\n",
    "projected_dir =                 projected\n",
    "ref_dir =                       reference\n",
    "\n",
    "[[ALLOCATION]]\n",
    "spatial_allocation =            spatial_allocation_rules_reclass.csv\n",
    "gcam_allocation =               gcam_allocation_rules_reclass.csv\n",
    "kernel_allocation =             kernel_density_allocation_rules.csv\n",
    "transition_order =              priority_allocation_rules.csv\n",
    "treatment_order =               treatment_order_allocation_rules.csv\n",
    "constraints =                   constraints_allocation_rules.csv\n",
    "\n",
    "[[OBSERVED]]\n",
    "observed_lu_data =              clm_baselayer_by_final_lcs.csv\n",
    "\n",
    "[[PROJECTED]]\n",
    "projected_lu_data =             gcam_ssp4_34_lumip_disagg.csv\n",
    "\n",
    "[[REFERENCE]]\n",
    "gcam_regnamefile =              gcam_regions_32.csv\n",
    "region_coords =                 regioncoord.csv\n",
    "country_coords =                countrycoord.csv\n",
    "\n",
    "[OUTPUTS]\n",
    "diag_dir =                      diagnostics\n",
    "log_dir =                       log_files\n",
    "kernel_map_dir =                kernel_density\n",
    "transition_tabular =            transition_tabular\n",
    "transition_maps =               transition_maps\n",
    "luc_intense_p1_dir =            luc_intensification_pass1\n",
    "luc_intense_p2_dir =            luc_intensification_pass2\n",
    "luc_expand_dir =                luc_expansion\n",
    "luc_timestep =                  luc_timestep\n",
    "lc_per_step_csv =               spatial_landcover_tabular\n",
    "lc_per_step_nc =                spatial_landcover_netcdf\n",
    "lc_per_step_shp =               spatial_landcover_shapefile\n",
    "\n",
    "[[DIAGNOSTICS]]\n",
    "harm_coeff =                    harmonization_coeff.npy\n",
    "intense_pass1_diag =            intensification_pass_one_diag.csv\n",
    "intense_pass2_diag =            intensification_pass_two_diag.csv\n",
    "expansion_diag =                expansion_diag.csv\n",
    "\n",
    "[PARAMS]\n",
    "# projection model name\n",
    "model =                         GCAM\n",
    "\n",
    "# projection model metric, currently AEZ or BASIN\n",
    "metric =                        AEZ\n",
    "\n",
    "# scenario name\n",
    "scenario =                      clm-dem-ssp4-rcp34\n",
    "\n",
    "# run description\n",
    "run_desc =                      clm-dem-ssp4-rcp34\n",
    "\n",
    "# aggregate level; 1 if there is no region information in the file, 2 if by both region and AEZ (Default)\n",
    "agg_level =                     2\n",
    "\n",
    "# spatial base layer id field name\n",
    "observed_id_field =             fid\n",
    "\n",
    "# first year to process\n",
    "start_year =                    2005\n",
    "\n",
    "# last year to process\n",
    "end_year =                      2100\n",
    "\n",
    "# enter 1 to use non-kernel density constraints, 0 to ignore non-kernel density constraints\n",
    "use_constraints =               1\n",
    "\n",
    "# the spatial resolution of the observed spatial data layer in decimal degrees\n",
    "spatial_resolution =            0.05\n",
    "\n",
    "# error tolerance in km2 for PFT area change not completed\n",
    "errortol =                      0.001\n",
    "\n",
    "# time step in years\n",
    "timestep =                      5\n",
    "\n",
    "# factor to multiply the projected land allocation by\n",
    "proj_factor =                   1000\n",
    "\n",
    "# output diagnostic reports\n",
    "diagnostic =                    1\n",
    "\n",
    "# from 0 to 1; ideal fraction of LUC that will occur during intensification, the remainder will be expansion\n",
    "intensification_ratio =         0.8\n",
    "\n",
    "# activates the stochastic selection of grid cells for expansion of any PFT\n",
    "stochastic_expansion =          1\n",
    "\n",
    "# threshold above which grid cells are selected to receive a given land type expansion; between 0 and 1, where 0 is all\n",
    "#     land cells can receive expansion and set to 1 only the grid cell with the maximum likelihood will expand.  For\n",
    "#     a 0.75 setting, only grid cells with a likelihood >= 0.75 x max_likelihood are selected.\n",
    "selection_threshold =           0.75\n",
    "\n",
    "# radius in grid cells to use when computing the kernel density; larger is smoother but will increase run-time\n",
    "kernel_distance =               30\n",
    "\n",
    "# create kernel density maps; 1 is True\n",
    "map_kernels =                   0\n",
    "\n",
    "# create land change maps per time step per land class\n",
    "map_luc_pft =                   0\n",
    "\n",
    "# create land change maps for each intensification and expansion step\n",
    "map_luc_steps =                 0\n",
    "\n",
    "# creates maps of land transitions for each time step\n",
    "map_transitions =               0\n",
    "\n",
    "# years to save data for, default is all; otherwise a semicolon delimited string e.g, 2005;2050\n",
    "target_years_output =           all\n",
    "\n",
    "# save tabular spatial landcover as CSV; define tabular_units below (default sqkm)\n",
    "save_tabular =                  1\n",
    "\n",
    "# untis to output tabular data in (sqkm or percent)\n",
    "tabular_units =                 sqkm\n",
    "\n",
    "# exports CSV files of land transitions for each time step in km2\n",
    "save_transitions =              0\n",
    "\n",
    "# create land cover per point shapefile output for each time step; output units will be same as tabular data\n",
    "save_shapefile =                0\n",
    "\n",
    "# create a NetCDF file of land cover percent for each year by grid cell containing each land class\n",
    "save_netcdf_yr =                0\n",
    "\n",
    "# create a NetCDF file of land cover percent by land class by grid cell containing each year interpolated to one-year intervals\n",
    "save_netcdf_lc =                0\n",
    "\n",
    "# create an ASCII raster representing the land class with the maximum value per grid cell per year\n",
    "save_ascii_max =                0\n",
    "```\n",
    "\n",
    "#### A simple Python code is prepared to run Demeter located here: `/pic/projects/GCAM/demeter/runs/clm/code/run_demeter_ssp4_rcp3p4.py`:\n",
    "```python\n",
    "import os\n",
    "\n",
    "from demeter.model import Demeter\n",
    "\n",
    "\n",
    "if __name__ == \"__main__\":\n",
    "\n",
    "    root = '/pic/projects/GCAM/demeter/runs/clm'\n",
    "\n",
    "    ssp = 4\n",
    "    rcp = '3p4'\n",
    "\n",
    "    print(\"Processing:  SSP{0} - RCP{1}\".format(ssp, rcp))\n",
    "    ini = os.path.join(root, 'config_ssp{0}_rcp{1}.ini'.format(ssp, rcp))\n",
    "    dm = Demeter(config=ini)\n",
    "    dm.execute()\n",
    "    del dm\n",
    "```\n",
    "\n",
    "#### And a shell script to call when submitting the job using PIC located here: `/pic/projects/GCAM/demeter/runs/clm/code/run_demeter_ssp4_rcp3p4.sh`:\n",
    "```sh\n",
    "\n",
    "#!/bin/zsh\n",
    "\n",
    "#SBATCH -n 8\n",
    "#SBATCH -t 2000\n",
    "#SBATCH -A IM3\n",
    "#SBATCH -J clm-demeter-ssp4-rcp3p4\n",
    "\n",
    "source  /etc/profile.d/modules.sh\n",
    "module purge\n",
    "module load python/2.7.13\n",
    "\n",
    "PFILE=\"/pic/projects/GCAM/demeter/runs/clm/code/run_demeter_ssp4_rcp3p4.py\"\n",
    "\n",
    "date\n",
    "python $PFILE\n",
    "date\n",
    "\n",
    "echo 'completed'\n",
    "```\n",
    "\n",
    "#### After Demeter is installed as a user (see `/pic/projects/GCAM/demeter/README.txt`), you can submit the job by running the following in your terminal:\n",
    "`sbatch /pic/projects/GCAM/demeter/runs/clm/code/run_demeter_ssp4_rcp3p4.sh`\n",
    "\n",
    "\n",
    "\n"
   ]
  }
 ],
 "metadata": {
  "kernelspec": {
   "display_name": "Python 3",
   "language": "python",
   "name": "python3"
  },
  "language_info": {
   "codemirror_mode": {
    "name": "ipython",
    "version": 3
   },
   "file_extension": ".py",
   "mimetype": "text/x-python",
   "name": "python",
   "nbconvert_exporter": "python",
   "pygments_lexer": "ipython3",
   "version": "3.6.8"
  },
  "stem_cell": {
   "cell_type": "raw",
   "metadata": {
    "pycharm": {
     "metadata": false
    }
   },
   "source": ""
  }
 },
 "nbformat": 4,
 "nbformat_minor": 1
}
