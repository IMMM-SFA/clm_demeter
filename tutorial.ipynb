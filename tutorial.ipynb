{
  "cells": [
    {
      "cell_type": "markdown",
      "source": "## Tutorial\n",
      "metadata": {
        "pycharm": {
          "metadata": false,
          "name": "#%% md\n"
        }
      }
    },
    {
      "cell_type": "markdown",
      "source": "### Step 1: Reclassify the existing CLM base layer that represents CLM PFTs to Demeter\u0027s desired output land classes\n",
      "metadata": {
        "pycharm": {
          "metadata": false,
          "name": "#%% md\n"
        }
      }
    },
    {
      "cell_type": "markdown",
      "source": "#### Import the class we need:",
      "metadata": {
        "pycharm": {
          "metadata": false,
          "name": "#%% md\n",
          "is_executing": false
        }
      }
    },
    {
      "cell_type": "code",
      "execution_count": 17,
      "outputs": [],
      "source": "from clm_demeter.reclassify_base import ReclassBaselayer",
      "metadata": {
        "pycharm": {
          "metadata": false,
          "name": "#%%\n",
          "is_executing": false
        }
      }
    },
    {
      "cell_type": "markdown",
      "source": "#### Check out help on our `ReclassBaselayer` class to see what it requires:",
      "metadata": {
        "pycharm": {
          "metadata": false
        }
      }
    },
    {
      "cell_type": "code",
      "execution_count": 18,
      "outputs": [
        {
          "name": "stdout",
          "text": [
            "Help on class ReclassBaselayer in module clm_demeter.reclassify_base:\n\nclass ReclassBaselayer(builtins.object)\n |  Reclassify CLM PFTs in the baselayer for Demeter to Demeter final landcover classes.\n |  \n |  :param clm_baselayer_file:              Full path with file name and extension to\n |                                          the CLM baselayer prepared for Demeter\n |                                          in units square-degrees.\n |  \n |  :param clm_spatial_allocation_file:     Full path with file name and extension to\n |                                          the Demeter spatial allocation file for CLM\n |                                          landclasses.\n |  \n |  :param out_clm_baselayer_file:          Full path with file name and extension to\n |                                          to save the reclassified baselayer.\n |  \n |  :method demeter_to_clm_map:             Create a dictionary of Demeter final landclasses\n |                                          to CLM PFTs. Returns dictionary of\n |                                          {final_landclass_name: [clm_pft, ...]}}.\n |  \n |  :method get_unique_clm_pfts:            Create a list of unique CLM PFTs represented in the\n |                                          baselayer.\n |  \n |  :method reclass_clm_baselayer:          Reclassify the existing CLM baselayer for Demeter\n |                                          to Demeter land cover classes.  Save output to\n |                                          new file. Returns data frame of reclassified data.\n |  \n |  # accessible upon initialization\n |  :attribute dem_to_clm_dict:             Dictionary of {final_landclass_name: [clm_pft, ...]}}.\n |  \n |  :attribute df_clm_baselayer:            Data frame of reclassified data.\n |  \n |  Methods defined here:\n |  \n |  __init__(self, clm_baselayer_file, clm_spatial_allocation_file, out_clm_baselayer_file)\n |      Initialize self.  See help(type(self)) for accurate signature.\n |  \n |  demeter_to_clm_map(self, true_value\u003d\u00271\u0027)\n |      Create a dictionary of Demeter final landclasses to CLM PFTs.\n |      \n |      :param true_value:                      The value that represents true in the allocation file.\n |      \n |      :return:                                Dictionary of {final_landclass_name: [clm_pft, ...]}}\n |  \n |  get_unique_clm_pfts(self)\n |      Create a list of unique CLM PFTs represented in the baselayer.\n |      \n |      :return:                             Unique list of CLM PFTs\n |  \n |  reclass_clm_baselayer(self)\n |      Reclassify the existing CLM baselayer for Demeter to Demeter land cover classes.\n |      Save output to new file.\n |      \n |      :return:                             Data frame of reclassified data\n |  \n |  ----------------------------------------------------------------------\n |  Data descriptors defined here:\n |  \n |  __dict__\n |      dictionary for instance variables (if defined)\n |  \n |  __weakref__\n |      list of weak references to the object (if defined)\n\n"
          ],
          "output_type": "stream"
        }
      ],
      "source": "help(ReclassBaselayer)",
      "metadata": {
        "pycharm": {
          "metadata": false,
          "name": "#%%\n",
          "is_executing": false
        }
      }
    },
    {
      "cell_type": "markdown",
      "source": "#### Set the paths to our files including the desired output:",
      "metadata": {
        "pycharm": {
          "metadata": false,
          "name": "#%% md\n"
        }
      }
    },
    {
      "cell_type": "code",
      "execution_count": 23,
      "outputs": [],
      "source": "clm_baselayer_file \u003d \u0027/Users/d3y010/projects/demeter/clm/baselayerdata.csv\u0027\nclm_spatial_allocation_file \u003d \u0027/Users/d3y010/projects/demeter/clm/spatial_allocation_rules.csv\u0027\nout_clm_baselayer_file \u003d \u0027/Users/d3y010/projects/demeter/clm/clm_baselayer_by_final_lcs.csv\u0027",
      "metadata": {
        "pycharm": {
          "metadata": false,
          "name": "#%%\n",
          "is_executing": false
        }
      }
    },
    {
      "cell_type": "markdown",
      "source": "#### Generate a reclassififed base layer for Demeter from the original CLM base layer:",
      "metadata": {
        "pycharm": {
          "metadata": false,
          "name": "#%% md\n"
        }
      }
    },
    {
      "cell_type": "code",
      "execution_count": 24,
      "outputs": [],
      "source": "base \u003d ReclassBaselayer(clm_baselayer_file, clm_spatial_allocation_file, out_clm_baselayer_file)#%% md",
      "metadata": {
        "pycharm": {
          "metadata": false,
          "name": "#%%\n",
          "is_executing": false
        }
      }
    },
    {
      "cell_type": "markdown",
      "source": "#### To take a look at the resulting data frame to 5 rows:",
      "metadata": {
        "pycharm": {
          "metadata": false,
          "name": "#%% md\n"
        }
      }
    },
    {
      "cell_type": "code",
      "execution_count": 25,
      "outputs": [
        {
          "data": {
            "text/plain": "   Latcoord  Loncoord  FID  regAEZ  region_id  aez_id  OBJECTID    Barren  \\\n0    71.525  -179.975  370    2313         23      13         1  0.000550   \n1    71.475  -179.975  371    2313         23      13         2  0.000675   \n2    71.425  -179.975  372    2313         23      13         3  0.000675   \n3    71.375  -179.975  373    2313         23      13         4  0.000575   \n4    71.325  -179.975  374    2313         23      13         5  0.000625   \n\n   NET_tem  NET_bor      ...        Palm_rf  Palm_irr  Fodder_rf  Fodder_irr  \\\n0      0.0      0.0      ...            0.0       0.0        0.0         0.0   \n1      0.0      0.0      ...            0.0       0.0        0.0         0.0   \n2      0.0      0.0      ...            0.0       0.0        0.0         0.0   \n3      0.0      0.0      ...            0.0       0.0        0.0         0.0   \n4      0.0      0.0      ...            0.0       0.0        0.0         0.0   \n\n   Rice_rf  Rice_irr  Sugarcrop_rf  Sugarcrop_irr  Bioenergy_rf  Bioenergy_irr  \n0      0.0       0.0           0.0            0.0             0              0  \n1      0.0       0.0           0.0            0.0             0              0  \n2      0.0       0.0           0.0            0.0             0              0  \n3      0.0       0.0           0.0            0.0             0              0  \n4      0.0       0.0           0.0            0.0             0              0  \n\n[5 rows x 42 columns]",
            "text/html": "\u003cdiv\u003e\n\u003cstyle scoped\u003e\n    .dataframe tbody tr th:only-of-type {\n        vertical-align: middle;\n    }\n\n    .dataframe tbody tr th {\n        vertical-align: top;\n    }\n\n    .dataframe thead th {\n        text-align: right;\n    }\n\u003c/style\u003e\n\u003ctable border\u003d\"1\" class\u003d\"dataframe\"\u003e\n  \u003cthead\u003e\n    \u003ctr style\u003d\"text-align: right;\"\u003e\n      \u003cth\u003e\u003c/th\u003e\n      \u003cth\u003eLatcoord\u003c/th\u003e\n      \u003cth\u003eLoncoord\u003c/th\u003e\n      \u003cth\u003eFID\u003c/th\u003e\n      \u003cth\u003eregAEZ\u003c/th\u003e\n      \u003cth\u003eregion_id\u003c/th\u003e\n      \u003cth\u003eaez_id\u003c/th\u003e\n      \u003cth\u003eOBJECTID\u003c/th\u003e\n      \u003cth\u003eBarren\u003c/th\u003e\n      \u003cth\u003eNET_tem\u003c/th\u003e\n      \u003cth\u003eNET_bor\u003c/th\u003e\n      \u003cth\u003e...\u003c/th\u003e\n      \u003cth\u003ePalm_rf\u003c/th\u003e\n      \u003cth\u003ePalm_irr\u003c/th\u003e\n      \u003cth\u003eFodder_rf\u003c/th\u003e\n      \u003cth\u003eFodder_irr\u003c/th\u003e\n      \u003cth\u003eRice_rf\u003c/th\u003e\n      \u003cth\u003eRice_irr\u003c/th\u003e\n      \u003cth\u003eSugarcrop_rf\u003c/th\u003e\n      \u003cth\u003eSugarcrop_irr\u003c/th\u003e\n      \u003cth\u003eBioenergy_rf\u003c/th\u003e\n      \u003cth\u003eBioenergy_irr\u003c/th\u003e\n    \u003c/tr\u003e\n  \u003c/thead\u003e\n  \u003ctbody\u003e\n    \u003ctr\u003e\n      \u003cth\u003e0\u003c/th\u003e\n      \u003ctd\u003e71.525\u003c/td\u003e\n      \u003ctd\u003e-179.975\u003c/td\u003e\n      \u003ctd\u003e370\u003c/td\u003e\n      \u003ctd\u003e2313\u003c/td\u003e\n      \u003ctd\u003e23\u003c/td\u003e\n      \u003ctd\u003e13\u003c/td\u003e\n      \u003ctd\u003e1\u003c/td\u003e\n      \u003ctd\u003e0.000550\u003c/td\u003e\n      \u003ctd\u003e0.0\u003c/td\u003e\n      \u003ctd\u003e0.0\u003c/td\u003e\n      \u003ctd\u003e...\u003c/td\u003e\n      \u003ctd\u003e0.0\u003c/td\u003e\n      \u003ctd\u003e0.0\u003c/td\u003e\n      \u003ctd\u003e0.0\u003c/td\u003e\n      \u003ctd\u003e0.0\u003c/td\u003e\n      \u003ctd\u003e0.0\u003c/td\u003e\n      \u003ctd\u003e0.0\u003c/td\u003e\n      \u003ctd\u003e0.0\u003c/td\u003e\n      \u003ctd\u003e0.0\u003c/td\u003e\n      \u003ctd\u003e0\u003c/td\u003e\n      \u003ctd\u003e0\u003c/td\u003e\n    \u003c/tr\u003e\n    \u003ctr\u003e\n      \u003cth\u003e1\u003c/th\u003e\n      \u003ctd\u003e71.475\u003c/td\u003e\n      \u003ctd\u003e-179.975\u003c/td\u003e\n      \u003ctd\u003e371\u003c/td\u003e\n      \u003ctd\u003e2313\u003c/td\u003e\n      \u003ctd\u003e23\u003c/td\u003e\n      \u003ctd\u003e13\u003c/td\u003e\n      \u003ctd\u003e2\u003c/td\u003e\n      \u003ctd\u003e0.000675\u003c/td\u003e\n      \u003ctd\u003e0.0\u003c/td\u003e\n      \u003ctd\u003e0.0\u003c/td\u003e\n      \u003ctd\u003e...\u003c/td\u003e\n      \u003ctd\u003e0.0\u003c/td\u003e\n      \u003ctd\u003e0.0\u003c/td\u003e\n      \u003ctd\u003e0.0\u003c/td\u003e\n      \u003ctd\u003e0.0\u003c/td\u003e\n      \u003ctd\u003e0.0\u003c/td\u003e\n      \u003ctd\u003e0.0\u003c/td\u003e\n      \u003ctd\u003e0.0\u003c/td\u003e\n      \u003ctd\u003e0.0\u003c/td\u003e\n      \u003ctd\u003e0\u003c/td\u003e\n      \u003ctd\u003e0\u003c/td\u003e\n    \u003c/tr\u003e\n    \u003ctr\u003e\n      \u003cth\u003e2\u003c/th\u003e\n      \u003ctd\u003e71.425\u003c/td\u003e\n      \u003ctd\u003e-179.975\u003c/td\u003e\n      \u003ctd\u003e372\u003c/td\u003e\n      \u003ctd\u003e2313\u003c/td\u003e\n      \u003ctd\u003e23\u003c/td\u003e\n      \u003ctd\u003e13\u003c/td\u003e\n      \u003ctd\u003e3\u003c/td\u003e\n      \u003ctd\u003e0.000675\u003c/td\u003e\n      \u003ctd\u003e0.0\u003c/td\u003e\n      \u003ctd\u003e0.0\u003c/td\u003e\n      \u003ctd\u003e...\u003c/td\u003e\n      \u003ctd\u003e0.0\u003c/td\u003e\n      \u003ctd\u003e0.0\u003c/td\u003e\n      \u003ctd\u003e0.0\u003c/td\u003e\n      \u003ctd\u003e0.0\u003c/td\u003e\n      \u003ctd\u003e0.0\u003c/td\u003e\n      \u003ctd\u003e0.0\u003c/td\u003e\n      \u003ctd\u003e0.0\u003c/td\u003e\n      \u003ctd\u003e0.0\u003c/td\u003e\n      \u003ctd\u003e0\u003c/td\u003e\n      \u003ctd\u003e0\u003c/td\u003e\n    \u003c/tr\u003e\n    \u003ctr\u003e\n      \u003cth\u003e3\u003c/th\u003e\n      \u003ctd\u003e71.375\u003c/td\u003e\n      \u003ctd\u003e-179.975\u003c/td\u003e\n      \u003ctd\u003e373\u003c/td\u003e\n      \u003ctd\u003e2313\u003c/td\u003e\n      \u003ctd\u003e23\u003c/td\u003e\n      \u003ctd\u003e13\u003c/td\u003e\n      \u003ctd\u003e4\u003c/td\u003e\n      \u003ctd\u003e0.000575\u003c/td\u003e\n      \u003ctd\u003e0.0\u003c/td\u003e\n      \u003ctd\u003e0.0\u003c/td\u003e\n      \u003ctd\u003e...\u003c/td\u003e\n      \u003ctd\u003e0.0\u003c/td\u003e\n      \u003ctd\u003e0.0\u003c/td\u003e\n      \u003ctd\u003e0.0\u003c/td\u003e\n      \u003ctd\u003e0.0\u003c/td\u003e\n      \u003ctd\u003e0.0\u003c/td\u003e\n      \u003ctd\u003e0.0\u003c/td\u003e\n      \u003ctd\u003e0.0\u003c/td\u003e\n      \u003ctd\u003e0.0\u003c/td\u003e\n      \u003ctd\u003e0\u003c/td\u003e\n      \u003ctd\u003e0\u003c/td\u003e\n    \u003c/tr\u003e\n    \u003ctr\u003e\n      \u003cth\u003e4\u003c/th\u003e\n      \u003ctd\u003e71.325\u003c/td\u003e\n      \u003ctd\u003e-179.975\u003c/td\u003e\n      \u003ctd\u003e374\u003c/td\u003e\n      \u003ctd\u003e2313\u003c/td\u003e\n      \u003ctd\u003e23\u003c/td\u003e\n      \u003ctd\u003e13\u003c/td\u003e\n      \u003ctd\u003e5\u003c/td\u003e\n      \u003ctd\u003e0.000625\u003c/td\u003e\n      \u003ctd\u003e0.0\u003c/td\u003e\n      \u003ctd\u003e0.0\u003c/td\u003e\n      \u003ctd\u003e...\u003c/td\u003e\n      \u003ctd\u003e0.0\u003c/td\u003e\n      \u003ctd\u003e0.0\u003c/td\u003e\n      \u003ctd\u003e0.0\u003c/td\u003e\n      \u003ctd\u003e0.0\u003c/td\u003e\n      \u003ctd\u003e0.0\u003c/td\u003e\n      \u003ctd\u003e0.0\u003c/td\u003e\n      \u003ctd\u003e0.0\u003c/td\u003e\n      \u003ctd\u003e0.0\u003c/td\u003e\n      \u003ctd\u003e0\u003c/td\u003e\n      \u003ctd\u003e0\u003c/td\u003e\n    \u003c/tr\u003e\n  \u003c/tbody\u003e\n\u003c/table\u003e\n\u003cp\u003e5 rows × 42 columns\u003c/p\u003e\n\u003c/div\u003e"
          },
          "metadata": {},
          "output_type": "execute_result",
          "execution_count": 25
        }
      ],
      "source": "base.df_clm_baselayer.head()\n\n\n",
      "metadata": {
        "pycharm": {
          "metadata": false,
          "name": "#%%\n",
          "is_executing": false
        }
      }
    }
  ],
  "metadata": {
    "language_info": {
      "codemirror_mode": {
        "name": "ipython",
        "version": 2
      },
      "file_extension": ".py",
      "mimetype": "text/x-python",
      "name": "python",
      "nbconvert_exporter": "python",
      "pygments_lexer": "ipython2",
      "version": "2.7.6"
    },
    "kernelspec": {
      "name": "python3",
      "language": "python",
      "display_name": "Python 3"
    },
    "stem_cell": {
      "cell_type": "raw",
      "source": "",
      "metadata": {
        "pycharm": {
          "metadata": false
        }
      }
    }
  },
  "nbformat": 4,
  "nbformat_minor": 0
}